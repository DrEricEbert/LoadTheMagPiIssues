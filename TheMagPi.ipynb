{
 "cells": [
  {
   "cell_type": "code",
   "execution_count": 33,
   "id": "b07b6314-2268-44a6-a45b-9fce345cdc5b",
   "metadata": {},
   "outputs": [
    {
     "name": "stderr",
     "output_type": "stream",
     "text": [
      "\r",
      "  0%|          | 0/123 [00:00<?, ?it/s]"
     ]
    },
    {
     "name": "stdout",
     "output_type": "stream",
     "text": [
      "https://magpi.raspberrypi.com/downloads/eyJfcmFpbHMiOnsibWVzc2FnZSI6IkJBaHBBdEVFIiwiZXhwIjpudWxsLCJwdXIiOiJibG9iX2lkIn19--981c4ff9c48e421db06850a076e1bfcac3c3ca39/MagPi05.pdf\n",
      "\tLoading link: https://magpi.raspberrypi.com/downloads/eyJfcmFpbHMiOnsibWVzc2FnZSI6IkJBaHBBdEVFIiwiZXhwIjpudWxsLCJwdXIiOiJibG9iX2lkIn19--981c4ff9c48e421db06850a076e1bfcac3c3ca39/MagPi05.pdf ...\n",
      "\tdone.\n",
      "\tSave to: MagPi05.pdf ...\n",
      "\tdone.\n",
      "\tSleep 3s\n"
     ]
    },
    {
     "name": "stderr",
     "output_type": "stream",
     "text": [
      "\r",
      "  1%|          | 1/123 [00:04<08:24,  4.13s/it]"
     ]
    },
    {
     "name": "stdout",
     "output_type": "stream",
     "text": [
      "https://magpi.raspberrypi.com/downloads/eyJfcmFpbHMiOnsibWVzc2FnZSI6IkJBaHBBaVVGIiwiZXhwIjpudWxsLCJwdXIiOiJibG9iX2lkIn19--651c73037b1792b7c66a283d1e0cd0dfda87a5d3/MagPi06.pdf\n",
      "\tLoading link: https://magpi.raspberrypi.com/downloads/eyJfcmFpbHMiOnsibWVzc2FnZSI6IkJBaHBBaVVGIiwiZXhwIjpudWxsLCJwdXIiOiJibG9iX2lkIn19--651c73037b1792b7c66a283d1e0cd0dfda87a5d3/MagPi06.pdf ...\n",
      "\tdone.\n",
      "\tSave to: MagPi06.pdf ...\n",
      "\tdone.\n",
      "\tSleep 3s\n"
     ]
    },
    {
     "name": "stderr",
     "output_type": "stream",
     "text": [
      "\r",
      "  2%|▏         | 2/123 [00:08<08:22,  4.15s/it]"
     ]
    },
    {
     "name": "stdout",
     "output_type": "stream",
     "text": [
      "https://magpi.raspberrypi.com/downloads/eyJfcmFpbHMiOnsibWVzc2FnZSI6IkJBaHBBc01FIiwiZXhwIjpudWxsLCJwdXIiOiJibG9iX2lkIn19--753b57bd12e91b7952463bd618c0acb722a05a3f/MagPi07.pdf\n",
      "\tLoading link: https://magpi.raspberrypi.com/downloads/eyJfcmFpbHMiOnsibWVzc2FnZSI6IkJBaHBBc01FIiwiZXhwIjpudWxsLCJwdXIiOiJibG9iX2lkIn19--753b57bd12e91b7952463bd618c0acb722a05a3f/MagPi07.pdf ...\n",
      "\tdone.\n",
      "\tSave to: MagPi07.pdf ...\n",
      "\tdone.\n",
      "\tSleep 4s\n"
     ]
    },
    {
     "name": "stderr",
     "output_type": "stream",
     "text": [
      "\r",
      "  2%|▏         | 3/123 [00:13<09:14,  4.62s/it]"
     ]
    },
    {
     "name": "stdout",
     "output_type": "stream",
     "text": [
      "https://magpi.raspberrypi.com/downloads/eyJfcmFpbHMiOnsibWVzc2FnZSI6IkJBaHBBdllGIiwiZXhwIjpudWxsLCJwdXIiOiJibG9iX2lkIn19--c0d1252853c126473b2a3fd7413e825a7cec9820/MagPi08.pdf\n",
      "\tLoading link: https://magpi.raspberrypi.com/downloads/eyJfcmFpbHMiOnsibWVzc2FnZSI6IkJBaHBBdllGIiwiZXhwIjpudWxsLCJwdXIiOiJibG9iX2lkIn19--c0d1252853c126473b2a3fd7413e825a7cec9820/MagPi08.pdf ...\n",
      "\tdone.\n",
      "\tSave to: MagPi08.pdf ...\n",
      "\tdone.\n",
      "\tSleep 2s\n"
     ]
    },
    {
     "name": "stderr",
     "output_type": "stream",
     "text": [
      "\r",
      "  3%|▎         | 4/123 [00:16<08:13,  4.15s/it]"
     ]
    },
    {
     "name": "stdout",
     "output_type": "stream",
     "text": [
      "https://magpi.raspberrypi.com/downloads/eyJfcmFpbHMiOnsibWVzc2FnZSI6IkJBaHBBcndFIiwiZXhwIjpudWxsLCJwdXIiOiJibG9iX2lkIn19--37b4e76f7a3c32b51a316f755ea9da45c70feb98/MagPi09.pdf\n",
      "\tLoading link: https://magpi.raspberrypi.com/downloads/eyJfcmFpbHMiOnsibWVzc2FnZSI6IkJBaHBBcndFIiwiZXhwIjpudWxsLCJwdXIiOiJibG9iX2lkIn19--37b4e76f7a3c32b51a316f755ea9da45c70feb98/MagPi09.pdf ...\n",
      "\tdone.\n",
      "\tSave to: MagPi09.pdf ...\n",
      "\tdone.\n",
      "\tSleep 3s\n"
     ]
    },
    {
     "name": "stderr",
     "output_type": "stream",
     "text": [
      "\r",
      "  4%|▍         | 5/123 [00:21<08:19,  4.23s/it]"
     ]
    },
    {
     "name": "stdout",
     "output_type": "stream",
     "text": [
      "https://magpi.raspberrypi.com/downloads/eyJfcmFpbHMiOnsibWVzc2FnZSI6IkJBaHBBdUlGIiwiZXhwIjpudWxsLCJwdXIiOiJibG9iX2lkIn19--b2a11f28cba72965a9951c8b7bf1c670ff62a4ed/MagPi10.pdf\n",
      "\tLoading link: https://magpi.raspberrypi.com/downloads/eyJfcmFpbHMiOnsibWVzc2FnZSI6IkJBaHBBdUlGIiwiZXhwIjpudWxsLCJwdXIiOiJibG9iX2lkIn19--b2a11f28cba72965a9951c8b7bf1c670ff62a4ed/MagPi10.pdf ...\n",
      "\tdone.\n",
      "\tSave to: MagPi10.pdf ...\n",
      "\tdone.\n",
      "\tSleep 5s\n"
     ]
    },
    {
     "name": "stderr",
     "output_type": "stream",
     "text": [
      "\r",
      "  5%|▍         | 6/123 [00:28<10:16,  5.27s/it]"
     ]
    },
    {
     "name": "stdout",
     "output_type": "stream",
     "text": [
      "https://magpi.raspberrypi.com/downloads/eyJfcmFpbHMiOnsibWVzc2FnZSI6IkJBaHBBaXNGIiwiZXhwIjpudWxsLCJwdXIiOiJibG9iX2lkIn19--f8b976f1017f5cbaaa886515643e3a9e953341e6/MagPi11.pdf\n",
      "\tLoading link: https://magpi.raspberrypi.com/downloads/eyJfcmFpbHMiOnsibWVzc2FnZSI6IkJBaHBBaXNGIiwiZXhwIjpudWxsLCJwdXIiOiJibG9iX2lkIn19--f8b976f1017f5cbaaa886515643e3a9e953341e6/MagPi11.pdf ...\n",
      "\tdone.\n",
      "\tSave to: MagPi11.pdf ...\n",
      "\tdone.\n",
      "\tSleep 2s\n"
     ]
    },
    {
     "name": "stderr",
     "output_type": "stream",
     "text": [
      "\r",
      "  6%|▌         | 7/123 [00:32<09:26,  4.88s/it]"
     ]
    },
    {
     "name": "stdout",
     "output_type": "stream",
     "text": [
      "https://magpi.raspberrypi.com/downloads/eyJfcmFpbHMiOnsibWVzc2FnZSI6IkJBaHBBZzBGIiwiZXhwIjpudWxsLCJwdXIiOiJibG9iX2lkIn19--638c7a276e6f98230cb8b65caf930b20c39dbaed/MagPi12.pdf\n",
      "\tLoading link: https://magpi.raspberrypi.com/downloads/eyJfcmFpbHMiOnsibWVzc2FnZSI6IkJBaHBBZzBGIiwiZXhwIjpudWxsLCJwdXIiOiJibG9iX2lkIn19--638c7a276e6f98230cb8b65caf930b20c39dbaed/MagPi12.pdf ...\n",
      "\tdone.\n",
      "\tSave to: MagPi12.pdf ...\n",
      "\tdone.\n",
      "\tSleep 1s\n"
     ]
    },
    {
     "name": "stderr",
     "output_type": "stream",
     "text": [
      "\r",
      "  7%|▋         | 8/123 [00:34<07:48,  4.07s/it]"
     ]
    },
    {
     "name": "stdout",
     "output_type": "stream",
     "text": [
      "https://magpi.raspberrypi.com/downloads/eyJfcmFpbHMiOnsibWVzc2FnZSI6IkJBaHBBaElHIiwiZXhwIjpudWxsLCJwdXIiOiJibG9iX2lkIn19--6be05f362b0cfcfb3693f5775514ad674dfdc816/MagPi13.pdf\n",
      "\tLoading link: https://magpi.raspberrypi.com/downloads/eyJfcmFpbHMiOnsibWVzc2FnZSI6IkJBaHBBaElHIiwiZXhwIjpudWxsLCJwdXIiOiJibG9iX2lkIn19--6be05f362b0cfcfb3693f5775514ad674dfdc816/MagPi13.pdf ...\n",
      "\tdone.\n",
      "\tSave to: MagPi13.pdf ...\n",
      "\tdone.\n",
      "\tSleep 3s\n"
     ]
    },
    {
     "name": "stderr",
     "output_type": "stream",
     "text": [
      "\r",
      "  7%|▋         | 9/123 [00:39<08:14,  4.34s/it]"
     ]
    },
    {
     "name": "stdout",
     "output_type": "stream",
     "text": [
      "https://magpi.raspberrypi.com/downloads/eyJfcmFpbHMiOnsibWVzc2FnZSI6IkJBaHBBcXdFIiwiZXhwIjpudWxsLCJwdXIiOiJibG9iX2lkIn19--e95897e773ffb0b3b5ea7263ac52f81efedf151d/MagPi14.pdf\n",
      "\tLoading link: https://magpi.raspberrypi.com/downloads/eyJfcmFpbHMiOnsibWVzc2FnZSI6IkJBaHBBcXdFIiwiZXhwIjpudWxsLCJwdXIiOiJibG9iX2lkIn19--e95897e773ffb0b3b5ea7263ac52f81efedf151d/MagPi14.pdf ...\n",
      "\tdone.\n",
      "\tSave to: MagPi14.pdf ...\n",
      "\tdone.\n",
      "\tSleep 3s\n"
     ]
    },
    {
     "name": "stderr",
     "output_type": "stream",
     "text": [
      "\r",
      "  8%|▊         | 10/123 [00:44<08:10,  4.34s/it]"
     ]
    },
    {
     "name": "stdout",
     "output_type": "stream",
     "text": [
      "https://magpi.raspberrypi.com/downloads/eyJfcmFpbHMiOnsibWVzc2FnZSI6IkJBaHBBdkFGIiwiZXhwIjpudWxsLCJwdXIiOiJibG9iX2lkIn19--48d39bc52686d3106428feb64165b0331259b7b8/MagPi15.pdf\n",
      "\tLoading link: https://magpi.raspberrypi.com/downloads/eyJfcmFpbHMiOnsibWVzc2FnZSI6IkJBaHBBdkFGIiwiZXhwIjpudWxsLCJwdXIiOiJibG9iX2lkIn19--48d39bc52686d3106428feb64165b0331259b7b8/MagPi15.pdf ...\n",
      "\tdone.\n",
      "\tSave to: MagPi15.pdf ...\n",
      "\tdone.\n",
      "\tSleep 2s\n"
     ]
    },
    {
     "name": "stderr",
     "output_type": "stream",
     "text": [
      "\r",
      "  9%|▉         | 11/123 [00:47<07:21,  3.94s/it]"
     ]
    },
    {
     "name": "stdout",
     "output_type": "stream",
     "text": [
      "https://magpi.raspberrypi.com/downloads/eyJfcmFpbHMiOnsibWVzc2FnZSI6IkJBaHBBdjRGIiwiZXhwIjpudWxsLCJwdXIiOiJibG9iX2lkIn19--325f49d24f6b17e898be243f7f754dc861b2df79/MagPi16.pdf\n",
      "\tLoading link: https://magpi.raspberrypi.com/downloads/eyJfcmFpbHMiOnsibWVzc2FnZSI6IkJBaHBBdjRGIiwiZXhwIjpudWxsLCJwdXIiOiJibG9iX2lkIn19--325f49d24f6b17e898be243f7f754dc861b2df79/MagPi16.pdf ...\n",
      "\tdone.\n",
      "\tSave to: MagPi16.pdf ...\n",
      "\tdone.\n",
      "\tSleep 5s\n"
     ]
    },
    {
     "name": "stderr",
     "output_type": "stream",
     "text": [
      "\r",
      " 10%|▉         | 12/123 [00:53<08:27,  4.57s/it]"
     ]
    },
    {
     "name": "stdout",
     "output_type": "stream",
     "text": [
      "https://magpi.raspberrypi.com/downloads/eyJfcmFpbHMiOnsibWVzc2FnZSI6IkJBaHBBc3NGIiwiZXhwIjpudWxsLCJwdXIiOiJibG9iX2lkIn19--5048289b8fcce3e6f3b8f4b06cc7d93d10d008ca/MagPi17.pdf\n",
      "\tLoading link: https://magpi.raspberrypi.com/downloads/eyJfcmFpbHMiOnsibWVzc2FnZSI6IkJBaHBBc3NGIiwiZXhwIjpudWxsLCJwdXIiOiJibG9iX2lkIn19--5048289b8fcce3e6f3b8f4b06cc7d93d10d008ca/MagPi17.pdf ...\n",
      "\tdone.\n",
      "\tSave to: MagPi17.pdf ...\n",
      "\tdone.\n",
      "\tSleep 3s\n"
     ]
    },
    {
     "name": "stderr",
     "output_type": "stream",
     "text": [
      "\r",
      " 11%|█         | 13/123 [00:57<08:05,  4.42s/it]"
     ]
    },
    {
     "name": "stdout",
     "output_type": "stream",
     "text": [
      "https://magpi.raspberrypi.com/downloads/eyJfcmFpbHMiOnsibWVzc2FnZSI6IkJBaHBBdTBFIiwiZXhwIjpudWxsLCJwdXIiOiJibG9iX2lkIn19--c9d22017de46a640ba0d11f584b798a6bbeba6f5/MagPi18.pdf\n",
      "\tLoading link: https://magpi.raspberrypi.com/downloads/eyJfcmFpbHMiOnsibWVzc2FnZSI6IkJBaHBBdTBFIiwiZXhwIjpudWxsLCJwdXIiOiJibG9iX2lkIn19--c9d22017de46a640ba0d11f584b798a6bbeba6f5/MagPi18.pdf ...\n",
      "\tdone.\n",
      "\tSave to: MagPi18.pdf ...\n",
      "\tdone.\n",
      "\tSleep 4s\n"
     ]
    },
    {
     "name": "stderr",
     "output_type": "stream",
     "text": [
      "\r",
      " 11%|█▏        | 14/123 [01:02<08:25,  4.64s/it]"
     ]
    },
    {
     "name": "stdout",
     "output_type": "stream",
     "text": [
      "https://magpi.raspberrypi.com/downloads/eyJfcmFpbHMiOnsibWVzc2FnZSI6IkJBaHBBcXNFIiwiZXhwIjpudWxsLCJwdXIiOiJibG9iX2lkIn19--6fbfde1ad066a753ec5ef20c15d58d6677d85450/MagPi19.pdf\n",
      "\tLoading link: https://magpi.raspberrypi.com/downloads/eyJfcmFpbHMiOnsibWVzc2FnZSI6IkJBaHBBcXNFIiwiZXhwIjpudWxsLCJwdXIiOiJibG9iX2lkIn19--6fbfde1ad066a753ec5ef20c15d58d6677d85450/MagPi19.pdf ...\n",
      "\tdone.\n",
      "\tSave to: MagPi19.pdf ...\n",
      "\tdone.\n",
      "\tSleep 5s\n"
     ]
    },
    {
     "name": "stderr",
     "output_type": "stream",
     "text": [
      "\r",
      " 12%|█▏        | 15/123 [01:09<09:22,  5.20s/it]"
     ]
    },
    {
     "name": "stdout",
     "output_type": "stream",
     "text": [
      "https://magpi.raspberrypi.com/downloads/eyJfcmFpbHMiOnsibWVzc2FnZSI6IkJBaHBBZ3NHIiwiZXhwIjpudWxsLCJwdXIiOiJibG9iX2lkIn19--08ca7667e158be8a32ddacfcc29b86b793f7dcd5/MagPi20.pdf\n",
      "\tLoading link: https://magpi.raspberrypi.com/downloads/eyJfcmFpbHMiOnsibWVzc2FnZSI6IkJBaHBBZ3NHIiwiZXhwIjpudWxsLCJwdXIiOiJibG9iX2lkIn19--08ca7667e158be8a32ddacfcc29b86b793f7dcd5/MagPi20.pdf ...\n",
      "\tdone.\n",
      "\tSave to: MagPi20.pdf ...\n",
      "\tdone.\n",
      "\tSleep 1s\n"
     ]
    },
    {
     "name": "stderr",
     "output_type": "stream",
     "text": [
      "\r",
      " 13%|█▎        | 16/123 [01:11<07:38,  4.29s/it]"
     ]
    },
    {
     "name": "stdout",
     "output_type": "stream",
     "text": [
      "https://magpi.raspberrypi.com/downloads/eyJfcmFpbHMiOnsibWVzc2FnZSI6IkJBaHBBaDBGIiwiZXhwIjpudWxsLCJwdXIiOiJibG9iX2lkIn19--622c6aa491fa317855241625df8bdd824104940f/MagPi21.pdf\n",
      "\tLoading link: https://magpi.raspberrypi.com/downloads/eyJfcmFpbHMiOnsibWVzc2FnZSI6IkJBaHBBaDBGIiwiZXhwIjpudWxsLCJwdXIiOiJibG9iX2lkIn19--622c6aa491fa317855241625df8bdd824104940f/MagPi21.pdf ...\n",
      "\tdone.\n",
      "\tSave to: MagPi21.pdf ...\n",
      "\tdone.\n",
      "\tSleep 2s\n"
     ]
    },
    {
     "name": "stderr",
     "output_type": "stream",
     "text": [
      "\r",
      " 14%|█▍        | 17/123 [01:14<06:59,  3.96s/it]"
     ]
    },
    {
     "name": "stdout",
     "output_type": "stream",
     "text": [
      "https://magpi.raspberrypi.com/downloads/eyJfcmFpbHMiOnsibWVzc2FnZSI6IkJBaHBBaUFFIiwiZXhwIjpudWxsLCJwdXIiOiJibG9iX2lkIn19--ba0574e59be1cbdff613529d439f9eeaca8a1a53/MagPi22.pdf\n",
      "\tLoading link: https://magpi.raspberrypi.com/downloads/eyJfcmFpbHMiOnsibWVzc2FnZSI6IkJBaHBBaUFFIiwiZXhwIjpudWxsLCJwdXIiOiJibG9iX2lkIn19--ba0574e59be1cbdff613529d439f9eeaca8a1a53/MagPi22.pdf ...\n",
      "\tdone.\n",
      "\tSave to: MagPi22.pdf ...\n",
      "\tdone.\n",
      "\tSleep 5s\n"
     ]
    },
    {
     "name": "stderr",
     "output_type": "stream",
     "text": [
      "\r",
      " 15%|█▍        | 18/123 [01:20<08:04,  4.61s/it]"
     ]
    },
    {
     "name": "stdout",
     "output_type": "stream",
     "text": [
      "https://magpi.raspberrypi.com/downloads/eyJfcmFpbHMiOnsibWVzc2FnZSI6IkJBaHBBaElGIiwiZXhwIjpudWxsLCJwdXIiOiJibG9iX2lkIn19--23445e040a4cf6b80d695d2ac372b918655fb29f/MagPi23.pdf\n",
      "\tLoading link: https://magpi.raspberrypi.com/downloads/eyJfcmFpbHMiOnsibWVzc2FnZSI6IkJBaHBBaElGIiwiZXhwIjpudWxsLCJwdXIiOiJibG9iX2lkIn19--23445e040a4cf6b80d695d2ac372b918655fb29f/MagPi23.pdf ...\n",
      "\tdone.\n",
      "\tSave to: MagPi23.pdf ...\n",
      "\tdone.\n",
      "\tSleep 2s\n"
     ]
    },
    {
     "name": "stderr",
     "output_type": "stream",
     "text": [
      "\r",
      " 15%|█▌        | 19/123 [01:23<07:13,  4.16s/it]"
     ]
    },
    {
     "name": "stdout",
     "output_type": "stream",
     "text": [
      "https://magpi.raspberrypi.com/downloads/eyJfcmFpbHMiOnsibWVzc2FnZSI6IkJBaHBBanNGIiwiZXhwIjpudWxsLCJwdXIiOiJibG9iX2lkIn19--3a8d6d9feec6641a47ee67e30c3bb1a3f7020fcd/MagPi24.pdf\n",
      "\tLoading link: https://magpi.raspberrypi.com/downloads/eyJfcmFpbHMiOnsibWVzc2FnZSI6IkJBaHBBanNGIiwiZXhwIjpudWxsLCJwdXIiOiJibG9iX2lkIn19--3a8d6d9feec6641a47ee67e30c3bb1a3f7020fcd/MagPi24.pdf ...\n",
      "\tdone.\n",
      "\tSave to: MagPi24.pdf ...\n",
      "\tdone.\n",
      "\tSleep 1s\n"
     ]
    },
    {
     "name": "stderr",
     "output_type": "stream",
     "text": [
      "\r",
      " 16%|█▋        | 20/123 [01:25<06:10,  3.60s/it]"
     ]
    },
    {
     "name": "stdout",
     "output_type": "stream",
     "text": [
      "https://magpi.raspberrypi.com/downloads/eyJfcmFpbHMiOnsibWVzc2FnZSI6IkJBaHBBcTBFIiwiZXhwIjpudWxsLCJwdXIiOiJibG9iX2lkIn19--9d6c5556353b28b564c50e4d826eb04e543203a4/MagPi25.pdf\n",
      "\tLoading link: https://magpi.raspberrypi.com/downloads/eyJfcmFpbHMiOnsibWVzc2FnZSI6IkJBaHBBcTBFIiwiZXhwIjpudWxsLCJwdXIiOiJibG9iX2lkIn19--9d6c5556353b28b564c50e4d826eb04e543203a4/MagPi25.pdf ...\n",
      "\tdone.\n",
      "\tSave to: MagPi25.pdf ...\n",
      "\tdone.\n",
      "\tSleep 4s\n"
     ]
    },
    {
     "name": "stderr",
     "output_type": "stream",
     "text": [
      "\r",
      " 17%|█▋        | 21/123 [01:31<07:08,  4.20s/it]"
     ]
    },
    {
     "name": "stdout",
     "output_type": "stream",
     "text": [
      "https://magpi.raspberrypi.com/downloads/eyJfcmFpbHMiOnsibWVzc2FnZSI6IkJBaHBBajRGIiwiZXhwIjpudWxsLCJwdXIiOiJibG9iX2lkIn19--b61c649f38fc63f4882034b8b9b87e0c0a320aa2/MagPi26.pdf\n",
      "\tLoading link: https://magpi.raspberrypi.com/downloads/eyJfcmFpbHMiOnsibWVzc2FnZSI6IkJBaHBBajRGIiwiZXhwIjpudWxsLCJwdXIiOiJibG9iX2lkIn19--b61c649f38fc63f4882034b8b9b87e0c0a320aa2/MagPi26.pdf ...\n",
      "\tdone.\n",
      "\tSave to: MagPi26.pdf ...\n",
      "\tdone.\n",
      "\tSleep 3s\n"
     ]
    },
    {
     "name": "stderr",
     "output_type": "stream",
     "text": [
      "\r",
      " 18%|█▊        | 22/123 [01:35<07:04,  4.21s/it]"
     ]
    },
    {
     "name": "stdout",
     "output_type": "stream",
     "text": [
      "https://magpi.raspberrypi.com/downloads/eyJfcmFpbHMiOnsibWVzc2FnZSI6IkJBaHBBdU1FIiwiZXhwIjpudWxsLCJwdXIiOiJibG9iX2lkIn19--9fde2877a4136df1570d79de18b790ff2f4ae4fb/MagPi27.pdf\n",
      "\tLoading link: https://magpi.raspberrypi.com/downloads/eyJfcmFpbHMiOnsibWVzc2FnZSI6IkJBaHBBdU1FIiwiZXhwIjpudWxsLCJwdXIiOiJibG9iX2lkIn19--9fde2877a4136df1570d79de18b790ff2f4ae4fb/MagPi27.pdf ...\n",
      "\tdone.\n",
      "\tSave to: MagPi27.pdf ...\n",
      "\tdone.\n",
      "\tSleep 5s\n"
     ]
    },
    {
     "name": "stderr",
     "output_type": "stream",
     "text": [
      "\r",
      " 19%|█▊        | 23/123 [01:42<08:02,  4.83s/it]"
     ]
    },
    {
     "name": "stdout",
     "output_type": "stream",
     "text": [
      "https://magpi.raspberrypi.com/downloads/eyJfcmFpbHMiOnsibWVzc2FnZSI6IkJBaHBBcHNFIiwiZXhwIjpudWxsLCJwdXIiOiJibG9iX2lkIn19--790273ef8e3a37b8a6bffa2bb544ea55cca0562a/MagPi28.pdf\n",
      "\tLoading link: https://magpi.raspberrypi.com/downloads/eyJfcmFpbHMiOnsibWVzc2FnZSI6IkJBaHBBcHNFIiwiZXhwIjpudWxsLCJwdXIiOiJibG9iX2lkIn19--790273ef8e3a37b8a6bffa2bb544ea55cca0562a/MagPi28.pdf ...\n",
      "\tdone.\n",
      "\tSave to: MagPi28.pdf ...\n",
      "\tdone.\n",
      "\tSleep 5s\n"
     ]
    },
    {
     "name": "stderr",
     "output_type": "stream",
     "text": [
      "\r",
      " 20%|█▉        | 24/123 [01:48<08:46,  5.32s/it]"
     ]
    },
    {
     "name": "stdout",
     "output_type": "stream",
     "text": [
      "https://magpi.raspberrypi.com/downloads/eyJfcmFpbHMiOnsibWVzc2FnZSI6IkJBaHBBdmNGIiwiZXhwIjpudWxsLCJwdXIiOiJibG9iX2lkIn19--214c3d1e833efbdc30d0458cd788380cc5397fd5/MagPi29.pdf\n",
      "\tLoading link: https://magpi.raspberrypi.com/downloads/eyJfcmFpbHMiOnsibWVzc2FnZSI6IkJBaHBBdmNGIiwiZXhwIjpudWxsLCJwdXIiOiJibG9iX2lkIn19--214c3d1e833efbdc30d0458cd788380cc5397fd5/MagPi29.pdf ...\n",
      "\tdone.\n",
      "\tSave to: MagPi29.pdf ...\n",
      "\tdone.\n",
      "\tSleep 3s\n"
     ]
    },
    {
     "name": "stderr",
     "output_type": "stream",
     "text": [
      "\r",
      " 20%|██        | 25/123 [01:52<08:12,  5.02s/it]"
     ]
    },
    {
     "name": "stdout",
     "output_type": "stream",
     "text": [
      "https://magpi.raspberrypi.com/downloads/eyJfcmFpbHMiOnsibWVzc2FnZSI6IkJBaHBBcGNFIiwiZXhwIjpudWxsLCJwdXIiOiJibG9iX2lkIn19--d6992a76904fdedcfe74e6620dfe4811690bf652/MagPi30.pdf\n",
      "\tLoading link: https://magpi.raspberrypi.com/downloads/eyJfcmFpbHMiOnsibWVzc2FnZSI6IkJBaHBBcGNFIiwiZXhwIjpudWxsLCJwdXIiOiJibG9iX2lkIn19--d6992a76904fdedcfe74e6620dfe4811690bf652/MagPi30.pdf ...\n",
      "\tdone.\n",
      "\tSave to: MagPi30.pdf ...\n",
      "\tdone.\n",
      "\tSleep 1s\n"
     ]
    },
    {
     "name": "stderr",
     "output_type": "stream",
     "text": [
      "\r",
      " 21%|██        | 26/123 [01:55<06:46,  4.19s/it]"
     ]
    },
    {
     "name": "stdout",
     "output_type": "stream",
     "text": [
      "https://magpi.raspberrypi.com/downloads/eyJfcmFpbHMiOnsibWVzc2FnZSI6IkJBaHBBaFFGIiwiZXhwIjpudWxsLCJwdXIiOiJibG9iX2lkIn19--2c8048d7d615fddbb3800cdbd8a8196d0210f463/MagPi31.pdf\n",
      "\tLoading link: https://magpi.raspberrypi.com/downloads/eyJfcmFpbHMiOnsibWVzc2FnZSI6IkJBaHBBaFFGIiwiZXhwIjpudWxsLCJwdXIiOiJibG9iX2lkIn19--2c8048d7d615fddbb3800cdbd8a8196d0210f463/MagPi31.pdf ...\n",
      "\tdone.\n",
      "\tSave to: MagPi31.pdf ...\n",
      "\tdone.\n",
      "\tSleep 3s\n"
     ]
    },
    {
     "name": "stderr",
     "output_type": "stream",
     "text": [
      "\r",
      " 22%|██▏       | 27/123 [01:59<06:58,  4.36s/it]"
     ]
    },
    {
     "name": "stdout",
     "output_type": "stream",
     "text": [
      "https://magpi.raspberrypi.com/downloads/eyJfcmFpbHMiOnsibWVzc2FnZSI6IkJBaHBBaGtGIiwiZXhwIjpudWxsLCJwdXIiOiJibG9iX2lkIn19--cd77214c4402a7ef6d0d2d55724434bbb31444f4/MagPi32.pdf\n",
      "\tLoading link: https://magpi.raspberrypi.com/downloads/eyJfcmFpbHMiOnsibWVzc2FnZSI6IkJBaHBBaGtGIiwiZXhwIjpudWxsLCJwdXIiOiJibG9iX2lkIn19--cd77214c4402a7ef6d0d2d55724434bbb31444f4/MagPi32.pdf ...\n",
      "\tdone.\n",
      "\tSave to: MagPi32.pdf ...\n",
      "\tdone.\n",
      "\tSleep 1s\n"
     ]
    },
    {
     "name": "stderr",
     "output_type": "stream",
     "text": [
      "\r",
      " 23%|██▎       | 28/123 [02:01<05:49,  3.68s/it]"
     ]
    },
    {
     "name": "stdout",
     "output_type": "stream",
     "text": [
      "https://magpi.raspberrypi.com/downloads/eyJfcmFpbHMiOnsibWVzc2FnZSI6IkJBaHBBcFVFIiwiZXhwIjpudWxsLCJwdXIiOiJibG9iX2lkIn19--29d3ef01fee8a4646c3c95db062fe8f7a7e6f7da/MagPi33.pdf\n",
      "\tLoading link: https://magpi.raspberrypi.com/downloads/eyJfcmFpbHMiOnsibWVzc2FnZSI6IkJBaHBBcFVFIiwiZXhwIjpudWxsLCJwdXIiOiJibG9iX2lkIn19--29d3ef01fee8a4646c3c95db062fe8f7a7e6f7da/MagPi33.pdf ...\n",
      "\tdone.\n",
      "\tSave to: MagPi33.pdf ...\n",
      "\tdone.\n",
      "\tSleep 4s\n"
     ]
    },
    {
     "name": "stderr",
     "output_type": "stream",
     "text": [
      "\r",
      " 24%|██▎       | 29/123 [02:07<06:26,  4.11s/it]"
     ]
    },
    {
     "name": "stdout",
     "output_type": "stream",
     "text": [
      "https://magpi.raspberrypi.com/downloads/eyJfcmFpbHMiOnsibWVzc2FnZSI6IkJBaHBBZ01HIiwiZXhwIjpudWxsLCJwdXIiOiJibG9iX2lkIn19--06d1b6395455f9f95c7e42297b6b1d3ee507ecba/MagPi34.pdf\n",
      "\tLoading link: https://magpi.raspberrypi.com/downloads/eyJfcmFpbHMiOnsibWVzc2FnZSI6IkJBaHBBZ01HIiwiZXhwIjpudWxsLCJwdXIiOiJibG9iX2lkIn19--06d1b6395455f9f95c7e42297b6b1d3ee507ecba/MagPi34.pdf ...\n",
      "\tdone.\n",
      "\tSave to: MagPi34.pdf ...\n",
      "\tdone.\n",
      "\tSleep 4s\n"
     ]
    },
    {
     "name": "stderr",
     "output_type": "stream",
     "text": [
      "\r",
      " 24%|██▍       | 30/123 [02:12<06:50,  4.41s/it]"
     ]
    },
    {
     "name": "stdout",
     "output_type": "stream",
     "text": [
      "https://magpi.raspberrypi.com/downloads/eyJfcmFpbHMiOnsibWVzc2FnZSI6IkJBaHBBZ1FHIiwiZXhwIjpudWxsLCJwdXIiOiJibG9iX2lkIn19--4dd8f8a4685297aa317356a0982d318cddbff711/MagPi35.pdf\n",
      "\tLoading link: https://magpi.raspberrypi.com/downloads/eyJfcmFpbHMiOnsibWVzc2FnZSI6IkJBaHBBZ1FHIiwiZXhwIjpudWxsLCJwdXIiOiJibG9iX2lkIn19--4dd8f8a4685297aa317356a0982d318cddbff711/MagPi35.pdf ...\n",
      "\tdone.\n",
      "\tSave to: MagPi35.pdf ...\n",
      "\tdone.\n",
      "\tSleep 5s\n"
     ]
    },
    {
     "name": "stderr",
     "output_type": "stream",
     "text": [
      "\r",
      " 25%|██▌       | 31/123 [02:18<07:33,  4.93s/it]"
     ]
    },
    {
     "name": "stdout",
     "output_type": "stream",
     "text": [
      "https://magpi.raspberrypi.com/downloads/eyJfcmFpbHMiOnsibWVzc2FnZSI6IkJBaHBBbElHIiwiZXhwIjpudWxsLCJwdXIiOiJibG9iX2lkIn19--fdc6ec411c22e900d89cbcf1dee27952f4471ece/MagPi36.pdf\n",
      "\tLoading link: https://magpi.raspberrypi.com/downloads/eyJfcmFpbHMiOnsibWVzc2FnZSI6IkJBaHBBbElHIiwiZXhwIjpudWxsLCJwdXIiOiJibG9iX2lkIn19--fdc6ec411c22e900d89cbcf1dee27952f4471ece/MagPi36.pdf ...\n",
      "\tdone.\n",
      "\tSave to: MagPi36.pdf ...\n",
      "\tdone.\n",
      "\tSleep 1s\n"
     ]
    },
    {
     "name": "stderr",
     "output_type": "stream",
     "text": [
      "\r",
      " 26%|██▌       | 32/123 [02:21<06:30,  4.29s/it]"
     ]
    },
    {
     "name": "stdout",
     "output_type": "stream",
     "text": [
      "https://magpi.raspberrypi.com/downloads/eyJfcmFpbHMiOnsibWVzc2FnZSI6IkJBaHBBbFFHIiwiZXhwIjpudWxsLCJwdXIiOiJibG9iX2lkIn19--a8745214d7ccd27ccbde2dce770466bff1f4eef9/MagPi37.pdf\n",
      "\tLoading link: https://magpi.raspberrypi.com/downloads/eyJfcmFpbHMiOnsibWVzc2FnZSI6IkJBaHBBbFFHIiwiZXhwIjpudWxsLCJwdXIiOiJibG9iX2lkIn19--a8745214d7ccd27ccbde2dce770466bff1f4eef9/MagPi37.pdf ...\n",
      "\tdone.\n",
      "\tSave to: MagPi37.pdf ...\n",
      "\tdone.\n",
      "\tSleep 5s\n"
     ]
    },
    {
     "name": "stderr",
     "output_type": "stream",
     "text": [
      "\r",
      " 27%|██▋       | 33/123 [02:27<07:26,  4.96s/it]"
     ]
    },
    {
     "name": "stdout",
     "output_type": "stream",
     "text": [
      "https://magpi.raspberrypi.com/downloads/eyJfcmFpbHMiOnsibWVzc2FnZSI6IkJBaHBBcGtGIiwiZXhwIjpudWxsLCJwdXIiOiJibG9iX2lkIn19--ef896d540c6ff0c5e08a7975cec7e460aa8d0d25/MagPi38.pdf\n",
      "\tLoading link: https://magpi.raspberrypi.com/downloads/eyJfcmFpbHMiOnsibWVzc2FnZSI6IkJBaHBBcGtGIiwiZXhwIjpudWxsLCJwdXIiOiJibG9iX2lkIn19--ef896d540c6ff0c5e08a7975cec7e460aa8d0d25/MagPi38.pdf ...\n",
      "\tdone.\n",
      "\tSave to: MagPi38.pdf ...\n",
      "\tdone.\n",
      "\tSleep 2s\n"
     ]
    },
    {
     "name": "stderr",
     "output_type": "stream",
     "text": [
      "\r",
      " 28%|██▊       | 34/123 [02:31<06:42,  4.53s/it]"
     ]
    },
    {
     "name": "stdout",
     "output_type": "stream",
     "text": [
      "https://magpi.raspberrypi.com/downloads/eyJfcmFpbHMiOnsibWVzc2FnZSI6IkJBaHBBbDBHIiwiZXhwIjpudWxsLCJwdXIiOiJibG9iX2lkIn19--d9283a9d7bc67cc1aa9b752ea240311e996666ee/MagPi39.pdf\n",
      "\tLoading link: https://magpi.raspberrypi.com/downloads/eyJfcmFpbHMiOnsibWVzc2FnZSI6IkJBaHBBbDBHIiwiZXhwIjpudWxsLCJwdXIiOiJibG9iX2lkIn19--d9283a9d7bc67cc1aa9b752ea240311e996666ee/MagPi39.pdf ...\n",
      "\tdone.\n",
      "\tSave to: MagPi39.pdf ...\n",
      "\tdone.\n",
      "\tSleep 2s\n"
     ]
    },
    {
     "name": "stderr",
     "output_type": "stream",
     "text": [
      "\r",
      " 28%|██▊       | 35/123 [02:34<06:06,  4.17s/it]"
     ]
    },
    {
     "name": "stdout",
     "output_type": "stream",
     "text": [
      "https://magpi.raspberrypi.com/downloads/eyJfcmFpbHMiOnsibWVzc2FnZSI6IkJBaHBBbDRGIiwiZXhwIjpudWxsLCJwdXIiOiJibG9iX2lkIn19--37b24075842967a55f5e1f9ddd21d97c21d624ef/MagPi40.pdf\n",
      "\tLoading link: https://magpi.raspberrypi.com/downloads/eyJfcmFpbHMiOnsibWVzc2FnZSI6IkJBaHBBbDRGIiwiZXhwIjpudWxsLCJwdXIiOiJibG9iX2lkIn19--37b24075842967a55f5e1f9ddd21d97c21d624ef/MagPi40.pdf ...\n",
      "\tdone.\n",
      "\tSave to: MagPi40.pdf ...\n",
      "\tdone.\n",
      "\tSleep 1s\n"
     ]
    },
    {
     "name": "stderr",
     "output_type": "stream",
     "text": [
      "\r",
      " 29%|██▉       | 36/123 [02:37<05:29,  3.79s/it]"
     ]
    },
    {
     "name": "stdout",
     "output_type": "stream",
     "text": [
      "https://magpi.raspberrypi.com/downloads/eyJfcmFpbHMiOnsibWVzc2FnZSI6IkJBaHBBa3NHIiwiZXhwIjpudWxsLCJwdXIiOiJibG9iX2lkIn19--9415cb92423a5d9058868da67dac951b2f546c59/MagPi41.pdf\n",
      "\tLoading link: https://magpi.raspberrypi.com/downloads/eyJfcmFpbHMiOnsibWVzc2FnZSI6IkJBaHBBa3NHIiwiZXhwIjpudWxsLCJwdXIiOiJibG9iX2lkIn19--9415cb92423a5d9058868da67dac951b2f546c59/MagPi41.pdf ...\n",
      "\tdone.\n",
      "\tSave to: MagPi41.pdf ...\n",
      "\tdone.\n",
      "\tSleep 5s\n"
     ]
    },
    {
     "name": "stderr",
     "output_type": "stream",
     "text": [
      "\r",
      " 30%|███       | 37/123 [02:43<06:35,  4.60s/it]"
     ]
    },
    {
     "name": "stdout",
     "output_type": "stream",
     "text": [
      "https://magpi.raspberrypi.com/downloads/eyJfcmFpbHMiOnsibWVzc2FnZSI6IkJBaHBBa3dHIiwiZXhwIjpudWxsLCJwdXIiOiJibG9iX2lkIn19--ef6c990f54d6ef9ab49e186564703cff2ac82d6a/MagPi42.pdf\n",
      "\tLoading link: https://magpi.raspberrypi.com/downloads/eyJfcmFpbHMiOnsibWVzc2FnZSI6IkJBaHBBa3dHIiwiZXhwIjpudWxsLCJwdXIiOiJibG9iX2lkIn19--ef6c990f54d6ef9ab49e186564703cff2ac82d6a/MagPi42.pdf ...\n",
      "\tdone.\n",
      "\tSave to: MagPi42.pdf ...\n",
      "\tdone.\n",
      "\tSleep 1s\n"
     ]
    },
    {
     "name": "stderr",
     "output_type": "stream",
     "text": [
      "\r",
      " 31%|███       | 38/123 [02:46<05:36,  3.96s/it]"
     ]
    },
    {
     "name": "stdout",
     "output_type": "stream",
     "text": [
      "https://magpi.raspberrypi.com/downloads/eyJfcmFpbHMiOnsibWVzc2FnZSI6IkJBaHBBdTBGIiwiZXhwIjpudWxsLCJwdXIiOiJibG9iX2lkIn19--7e126c800b0682c36a1de3c3b6a967b423af59d2/MagPi43.pdf\n",
      "\tLoading link: https://magpi.raspberrypi.com/downloads/eyJfcmFpbHMiOnsibWVzc2FnZSI6IkJBaHBBdTBGIiwiZXhwIjpudWxsLCJwdXIiOiJibG9iX2lkIn19--7e126c800b0682c36a1de3c3b6a967b423af59d2/MagPi43.pdf ...\n",
      "\tdone.\n",
      "\tSave to: MagPi43.pdf ...\n",
      "\tdone.\n",
      "\tSleep 1s\n"
     ]
    },
    {
     "name": "stderr",
     "output_type": "stream",
     "text": [
      "\r",
      " 32%|███▏      | 39/123 [02:48<04:51,  3.47s/it]"
     ]
    },
    {
     "name": "stdout",
     "output_type": "stream",
     "text": [
      "https://magpi.raspberrypi.com/downloads/eyJfcmFpbHMiOnsibWVzc2FnZSI6IkJBaHBBbllGIiwiZXhwIjpudWxsLCJwdXIiOiJibG9iX2lkIn19--33a9be346780e5c561bd8994535bf70c3f5aef06/MagPi44.pdf\n",
      "\tLoading link: https://magpi.raspberrypi.com/downloads/eyJfcmFpbHMiOnsibWVzc2FnZSI6IkJBaHBBbllGIiwiZXhwIjpudWxsLCJwdXIiOiJibG9iX2lkIn19--33a9be346780e5c561bd8994535bf70c3f5aef06/MagPi44.pdf ...\n",
      "\tdone.\n",
      "\tSave to: MagPi44.pdf ...\n",
      "\tdone.\n",
      "\tSleep 1s\n"
     ]
    },
    {
     "name": "stderr",
     "output_type": "stream",
     "text": [
      "\r",
      " 33%|███▎      | 40/123 [02:51<04:34,  3.31s/it]"
     ]
    },
    {
     "name": "stdout",
     "output_type": "stream",
     "text": [
      "https://magpi.raspberrypi.com/downloads/eyJfcmFpbHMiOnsibWVzc2FnZSI6IkJBaHBBanNHIiwiZXhwIjpudWxsLCJwdXIiOiJibG9iX2lkIn19--0471415e23fa081a6d88f68f5e282a82848c7c5d/MagPi45.pdf\n",
      "\tLoading link: https://magpi.raspberrypi.com/downloads/eyJfcmFpbHMiOnsibWVzc2FnZSI6IkJBaHBBanNHIiwiZXhwIjpudWxsLCJwdXIiOiJibG9iX2lkIn19--0471415e23fa081a6d88f68f5e282a82848c7c5d/MagPi45.pdf ...\n",
      "\tdone.\n",
      "\tSave to: MagPi45.pdf ...\n",
      "\tdone.\n",
      "\tSleep 5s\n"
     ]
    },
    {
     "name": "stderr",
     "output_type": "stream",
     "text": [
      "\r",
      " 33%|███▎      | 41/123 [02:57<05:45,  4.21s/it]"
     ]
    },
    {
     "name": "stdout",
     "output_type": "stream",
     "text": [
      "https://magpi.raspberrypi.com/downloads/eyJfcmFpbHMiOnsibWVzc2FnZSI6IkJBaHBBbGdHIiwiZXhwIjpudWxsLCJwdXIiOiJibG9iX2lkIn19--0c26e642a0a5188304c9fd1d070b7ea2b6c9d59d/MagPi46.pdf\n",
      "\tLoading link: https://magpi.raspberrypi.com/downloads/eyJfcmFpbHMiOnsibWVzc2FnZSI6IkJBaHBBbGdHIiwiZXhwIjpudWxsLCJwdXIiOiJibG9iX2lkIn19--0c26e642a0a5188304c9fd1d070b7ea2b6c9d59d/MagPi46.pdf ...\n",
      "\tdone.\n",
      "\tSave to: MagPi46.pdf ...\n",
      "\tdone.\n",
      "\tSleep 3s\n"
     ]
    },
    {
     "name": "stderr",
     "output_type": "stream",
     "text": [
      "\r",
      " 34%|███▍      | 42/123 [03:02<05:45,  4.27s/it]"
     ]
    },
    {
     "name": "stdout",
     "output_type": "stream",
     "text": [
      "https://magpi.raspberrypi.com/downloads/eyJfcmFpbHMiOnsibWVzc2FnZSI6IkJBaHBBbHNHIiwiZXhwIjpudWxsLCJwdXIiOiJibG9iX2lkIn19--2e7dcaf0ddf1ca3222ada4bbef79f8f6d639b924/MagPi47.pdf\n",
      "\tLoading link: https://magpi.raspberrypi.com/downloads/eyJfcmFpbHMiOnsibWVzc2FnZSI6IkJBaHBBbHNHIiwiZXhwIjpudWxsLCJwdXIiOiJibG9iX2lkIn19--2e7dcaf0ddf1ca3222ada4bbef79f8f6d639b924/MagPi47.pdf ...\n",
      "\tdone.\n",
      "\tSave to: MagPi47.pdf ...\n",
      "\tdone.\n",
      "\tSleep 5s\n"
     ]
    },
    {
     "name": "stderr",
     "output_type": "stream",
     "text": [
      "\r",
      " 35%|███▍      | 43/123 [03:08<06:33,  4.92s/it]"
     ]
    },
    {
     "name": "stdout",
     "output_type": "stream",
     "text": [
      "https://magpi.raspberrypi.com/downloads/eyJfcmFpbHMiOnsibWVzc2FnZSI6IkJBaHBBZ0FHIiwiZXhwIjpudWxsLCJwdXIiOiJibG9iX2lkIn19--434a5bd1c7cdb3a971de5501deb38a9056dc36f9/MagPi48.pdf\n",
      "\tLoading link: https://magpi.raspberrypi.com/downloads/eyJfcmFpbHMiOnsibWVzc2FnZSI6IkJBaHBBZ0FHIiwiZXhwIjpudWxsLCJwdXIiOiJibG9iX2lkIn19--434a5bd1c7cdb3a971de5501deb38a9056dc36f9/MagPi48.pdf ...\n",
      "\tdone.\n",
      "\tSave to: MagPi48.pdf ...\n",
      "\tdone.\n",
      "\tSleep 4s\n"
     ]
    },
    {
     "name": "stderr",
     "output_type": "stream",
     "text": [
      "\r",
      " 36%|███▌      | 44/123 [03:14<06:41,  5.08s/it]"
     ]
    },
    {
     "name": "stdout",
     "output_type": "stream",
     "text": [
      "https://magpi.raspberrypi.com/downloads/eyJfcmFpbHMiOnsibWVzc2FnZSI6IkJBaHBBdVlGIiwiZXhwIjpudWxsLCJwdXIiOiJibG9iX2lkIn19--84b260d220766edfea74cb899023e514466724bc/MagPi49.pdf\n",
      "\tLoading link: https://magpi.raspberrypi.com/downloads/eyJfcmFpbHMiOnsibWVzc2FnZSI6IkJBaHBBdVlGIiwiZXhwIjpudWxsLCJwdXIiOiJibG9iX2lkIn19--84b260d220766edfea74cb899023e514466724bc/MagPi49.pdf ...\n",
      "\tdone.\n",
      "\tSave to: MagPi49.pdf ...\n",
      "\tdone.\n",
      "\tSleep 1s\n"
     ]
    },
    {
     "name": "stderr",
     "output_type": "stream",
     "text": [
      "\r",
      " 37%|███▋      | 45/123 [03:16<05:33,  4.28s/it]"
     ]
    },
    {
     "name": "stdout",
     "output_type": "stream",
     "text": [
      "https://magpi.raspberrypi.com/downloads/eyJfcmFpbHMiOnsibWVzc2FnZSI6IkJBaHBBbjBGIiwiZXhwIjpudWxsLCJwdXIiOiJibG9iX2lkIn19--5b759b1178c83d8fd05483e000af11dfc2f543f8/MagPi50.pdf\n",
      "\tLoading link: https://magpi.raspberrypi.com/downloads/eyJfcmFpbHMiOnsibWVzc2FnZSI6IkJBaHBBbjBGIiwiZXhwIjpudWxsLCJwdXIiOiJibG9iX2lkIn19--5b759b1178c83d8fd05483e000af11dfc2f543f8/MagPi50.pdf ...\n",
      "\tdone.\n",
      "\tSave to: MagPi50.pdf ...\n",
      "\tdone.\n",
      "\tSleep 5s\n"
     ]
    },
    {
     "name": "stderr",
     "output_type": "stream",
     "text": [
      "\r",
      " 37%|███▋      | 46/123 [03:24<06:43,  5.24s/it]"
     ]
    },
    {
     "name": "stdout",
     "output_type": "stream",
     "text": [
      "https://magpi.raspberrypi.com/downloads/eyJfcmFpbHMiOnsibWVzc2FnZSI6IkJBaHBBbUVHIiwiZXhwIjpudWxsLCJwdXIiOiJibG9iX2lkIn19--dbd92c09c77fe81831a91b27a5a86a4c9c2dffaa/MagPi51.pdf\n",
      "\tLoading link: https://magpi.raspberrypi.com/downloads/eyJfcmFpbHMiOnsibWVzc2FnZSI6IkJBaHBBbUVHIiwiZXhwIjpudWxsLCJwdXIiOiJibG9iX2lkIn19--dbd92c09c77fe81831a91b27a5a86a4c9c2dffaa/MagPi51.pdf ...\n",
      "\tdone.\n",
      "\tSave to: MagPi51.pdf ...\n",
      "\tdone.\n",
      "\tSleep 2s\n"
     ]
    },
    {
     "name": "stderr",
     "output_type": "stream",
     "text": [
      "\r",
      " 38%|███▊      | 47/123 [03:27<05:59,  4.73s/it]"
     ]
    },
    {
     "name": "stdout",
     "output_type": "stream",
     "text": [
      "https://magpi.raspberrypi.com/downloads/eyJfcmFpbHMiOnsibWVzc2FnZSI6IkJBaHBBam9HIiwiZXhwIjpudWxsLCJwdXIiOiJibG9iX2lkIn19--07900227674e52f061a33c635d6bd439f96db671/MagPi52.pdf\n",
      "\tLoading link: https://magpi.raspberrypi.com/downloads/eyJfcmFpbHMiOnsibWVzc2FnZSI6IkJBaHBBam9HIiwiZXhwIjpudWxsLCJwdXIiOiJibG9iX2lkIn19--07900227674e52f061a33c635d6bd439f96db671/MagPi52.pdf ...\n",
      "\tdone.\n",
      "\tSave to: MagPi52.pdf ...\n",
      "\tdone.\n",
      "\tSleep 4s\n"
     ]
    },
    {
     "name": "stderr",
     "output_type": "stream",
     "text": [
      "\r",
      " 39%|███▉      | 48/123 [03:33<06:18,  5.05s/it]"
     ]
    },
    {
     "name": "stdout",
     "output_type": "stream",
     "text": [
      "https://magpi.raspberrypi.com/downloads/eyJfcmFpbHMiOnsibWVzc2FnZSI6IkJBaHBBbVFFIiwiZXhwIjpudWxsLCJwdXIiOiJibG9iX2lkIn19--3838cdee6dfe4e5ef9d1dea5e144c754daac876c/MagPi53.pdf\n",
      "\tLoading link: https://magpi.raspberrypi.com/downloads/eyJfcmFpbHMiOnsibWVzc2FnZSI6IkJBaHBBbVFFIiwiZXhwIjpudWxsLCJwdXIiOiJibG9iX2lkIn19--3838cdee6dfe4e5ef9d1dea5e144c754daac876c/MagPi53.pdf ...\n",
      "\tdone.\n",
      "\tSave to: MagPi53.pdf ...\n",
      "\tdone.\n",
      "\tSleep 1s\n"
     ]
    },
    {
     "name": "stderr",
     "output_type": "stream",
     "text": [
      "\r",
      " 40%|███▉      | 49/123 [04:30<25:25, 20.62s/it]"
     ]
    },
    {
     "name": "stdout",
     "output_type": "stream",
     "text": [
      "https://magpi.raspberrypi.com/downloads/eyJfcmFpbHMiOnsibWVzc2FnZSI6IkJBaHBBbjRGIiwiZXhwIjpudWxsLCJwdXIiOiJibG9iX2lkIn19--f46246dd8c39f46a1dc239b2f2cf30accb4ebb2c/MagPi54.pdf\n",
      "\tLoading link: https://magpi.raspberrypi.com/downloads/eyJfcmFpbHMiOnsibWVzc2FnZSI6IkJBaHBBbjRGIiwiZXhwIjpudWxsLCJwdXIiOiJibG9iX2lkIn19--f46246dd8c39f46a1dc239b2f2cf30accb4ebb2c/MagPi54.pdf ...\n",
      "\tdone.\n",
      "\tSave to: MagPi54.pdf ...\n",
      "\tdone.\n",
      "\tSleep 5s\n"
     ]
    },
    {
     "name": "stderr",
     "output_type": "stream",
     "text": [
      "\r",
      " 41%|████      | 50/123 [05:36<41:48, 34.37s/it]"
     ]
    },
    {
     "name": "stdout",
     "output_type": "stream",
     "text": [
      "https://magpi.raspberrypi.com/downloads/eyJfcmFpbHMiOnsibWVzc2FnZSI6IkJBaHBBbHdHIiwiZXhwIjpudWxsLCJwdXIiOiJibG9iX2lkIn19--2a97bd824ceb95ca427d4d212702985704ea9189/MagPi55.pdf\n",
      "\tLoading link: https://magpi.raspberrypi.com/downloads/eyJfcmFpbHMiOnsibWVzc2FnZSI6IkJBaHBBbHdHIiwiZXhwIjpudWxsLCJwdXIiOiJibG9iX2lkIn19--2a97bd824ceb95ca427d4d212702985704ea9189/MagPi55.pdf ...\n",
      "\tdone.\n",
      "\tSave to: MagPi55.pdf ...\n",
      "\tdone.\n",
      "\tSleep 1s\n"
     ]
    },
    {
     "name": "stderr",
     "output_type": "stream",
     "text": [
      "\r",
      " 41%|████▏     | 51/123 [06:36<50:19, 41.94s/it]"
     ]
    },
    {
     "name": "stdout",
     "output_type": "stream",
     "text": [
      "https://magpi.raspberrypi.com/downloads/eyJfcmFpbHMiOnsibWVzc2FnZSI6IkJBaHBBb2dGIiwiZXhwIjpudWxsLCJwdXIiOiJibG9iX2lkIn19--93aa99a0db736eae908edc8ca5e7c39c880224d1/MagPi56.pdf\n",
      "\tLoading link: https://magpi.raspberrypi.com/downloads/eyJfcmFpbHMiOnsibWVzc2FnZSI6IkJBaHBBb2dGIiwiZXhwIjpudWxsLCJwdXIiOiJibG9iX2lkIn19--93aa99a0db736eae908edc8ca5e7c39c880224d1/MagPi56.pdf ...\n",
      "\tdone.\n",
      "\tSave to: MagPi56.pdf ...\n",
      "\tdone.\n",
      "\tSleep 2s\n"
     ]
    },
    {
     "name": "stderr",
     "output_type": "stream",
     "text": [
      "\r",
      " 42%|████▏     | 52/123 [07:35<55:40, 47.05s/it]"
     ]
    },
    {
     "name": "stdout",
     "output_type": "stream",
     "text": [
      "https://magpi.raspberrypi.com/downloads/eyJfcmFpbHMiOnsibWVzc2FnZSI6IkJBaHBBbXdFIiwiZXhwIjpudWxsLCJwdXIiOiJibG9iX2lkIn19--0a473ceb84aa528dd2627ccd31de76d0d85a2903/MagPi57.pdf\n",
      "\tLoading link: https://magpi.raspberrypi.com/downloads/eyJfcmFpbHMiOnsibWVzc2FnZSI6IkJBaHBBbXdFIiwiZXhwIjpudWxsLCJwdXIiOiJibG9iX2lkIn19--0a473ceb84aa528dd2627ccd31de76d0d85a2903/MagPi57.pdf ...\n",
      "\tdone.\n",
      "\tSave to: MagPi57.pdf ...\n",
      "\tdone.\n",
      "\tSleep 5s\n"
     ]
    },
    {
     "name": "stderr",
     "output_type": "stream",
     "text": [
      "\r",
      " 43%|████▎     | 53/123 [08:46<1:03:28, 54.40s/it]"
     ]
    },
    {
     "name": "stdout",
     "output_type": "stream",
     "text": [
      "https://magpi.raspberrypi.com/downloads/eyJfcmFpbHMiOnsibWVzc2FnZSI6IkJBaHBBdWdFIiwiZXhwIjpudWxsLCJwdXIiOiJibG9iX2lkIn19--dd0da4ff9b8ed85bf0d2326018e0ff1baaafffea/MagPi58.pdf\n",
      "\tLoading link: https://magpi.raspberrypi.com/downloads/eyJfcmFpbHMiOnsibWVzc2FnZSI6IkJBaHBBdWdFIiwiZXhwIjpudWxsLCJwdXIiOiJibG9iX2lkIn19--dd0da4ff9b8ed85bf0d2326018e0ff1baaafffea/MagPi58.pdf ...\n",
      "\tdone.\n",
      "\tSave to: MagPi58.pdf ...\n",
      "\tdone.\n",
      "\tSleep 4s\n"
     ]
    },
    {
     "name": "stderr",
     "output_type": "stream",
     "text": [
      "\r",
      " 44%|████▍     | 54/123 [09:54<1:07:09, 58.40s/it]"
     ]
    },
    {
     "name": "stdout",
     "output_type": "stream",
     "text": [
      "https://magpi.raspberrypi.com/downloads/eyJfcmFpbHMiOnsibWVzc2FnZSI6IkJBaHBBaXdGIiwiZXhwIjpudWxsLCJwdXIiOiJibG9iX2lkIn19--3200ba783d16d150265ed763c9c0ed0b84dbd3d0/MagPi59.pdf\n",
      "\tLoading link: https://magpi.raspberrypi.com/downloads/eyJfcmFpbHMiOnsibWVzc2FnZSI6IkJBaHBBaXdGIiwiZXhwIjpudWxsLCJwdXIiOiJibG9iX2lkIn19--3200ba783d16d150265ed763c9c0ed0b84dbd3d0/MagPi59.pdf ...\n",
      "\tdone.\n",
      "\tSave to: MagPi59.pdf ...\n",
      "\tdone.\n",
      "\tSleep 5s\n"
     ]
    },
    {
     "name": "stderr",
     "output_type": "stream",
     "text": [
      "\r",
      " 45%|████▍     | 55/123 [11:04<1:10:06, 61.86s/it]"
     ]
    },
    {
     "name": "stdout",
     "output_type": "stream",
     "text": [
      "https://magpi.raspberrypi.com/downloads/eyJfcmFpbHMiOnsibWVzc2FnZSI6IkJBaHBBdThEIiwiZXhwIjpudWxsLCJwdXIiOiJibG9iX2lkIn19--9e58dd648b3c824d892ca707643bd75730cb0d95/MagPi60.pdf\n",
      "\tLoading link: https://magpi.raspberrypi.com/downloads/eyJfcmFpbHMiOnsibWVzc2FnZSI6IkJBaHBBdThEIiwiZXhwIjpudWxsLCJwdXIiOiJibG9iX2lkIn19--9e58dd648b3c824d892ca707643bd75730cb0d95/MagPi60.pdf ...\n",
      "\tdone.\n",
      "\tSave to: MagPi60.pdf ...\n",
      "\tdone.\n",
      "\tSleep 5s\n"
     ]
    },
    {
     "name": "stderr",
     "output_type": "stream",
     "text": [
      "\r",
      " 46%|████▌     | 56/123 [12:11<1:10:50, 63.45s/it]"
     ]
    },
    {
     "name": "stdout",
     "output_type": "stream",
     "text": [
      "https://magpi.raspberrypi.com/downloads/eyJfcmFpbHMiOnsibWVzc2FnZSI6IkJBaHBBaVFFIiwiZXhwIjpudWxsLCJwdXIiOiJibG9iX2lkIn19--01181156abe061233955b0f9d2eb14aa0fc03a77/MagPi61.pdf\n",
      "\tLoading link: https://magpi.raspberrypi.com/downloads/eyJfcmFpbHMiOnsibWVzc2FnZSI6IkJBaHBBaVFFIiwiZXhwIjpudWxsLCJwdXIiOiJibG9iX2lkIn19--01181156abe061233955b0f9d2eb14aa0fc03a77/MagPi61.pdf ...\n",
      "\tdone.\n",
      "\tSave to: MagPi61.pdf ...\n",
      "\tdone.\n",
      "\tSleep 2s\n"
     ]
    },
    {
     "name": "stderr",
     "output_type": "stream",
     "text": [
      "\r",
      " 46%|████▋     | 57/123 [13:14<1:09:40, 63.34s/it]"
     ]
    },
    {
     "name": "stdout",
     "output_type": "stream",
     "text": [
      "https://magpi.raspberrypi.com/downloads/eyJfcmFpbHMiOnsibWVzc2FnZSI6IkJBaHBBcE1DIiwiZXhwIjpudWxsLCJwdXIiOiJibG9iX2lkIn19--f3d96ea24d503125337437ce070c5bb5dd6c55b7/MagPi62.pdf\n",
      "\tLoading link: https://magpi.raspberrypi.com/downloads/eyJfcmFpbHMiOnsibWVzc2FnZSI6IkJBaHBBcE1DIiwiZXhwIjpudWxsLCJwdXIiOiJibG9iX2lkIn19--f3d96ea24d503125337437ce070c5bb5dd6c55b7/MagPi62.pdf ...\n",
      "\tdone.\n",
      "\tSave to: MagPi62.pdf ...\n",
      "\tdone.\n",
      "\tSleep 3s\n"
     ]
    },
    {
     "name": "stderr",
     "output_type": "stream",
     "text": [
      "\r",
      " 47%|████▋     | 58/123 [14:21<1:09:48, 64.44s/it]"
     ]
    },
    {
     "name": "stdout",
     "output_type": "stream",
     "text": [
      "https://magpi.raspberrypi.com/downloads/eyJfcmFpbHMiOnsibWVzc2FnZSI6IkJBaHBBandFIiwiZXhwIjpudWxsLCJwdXIiOiJibG9iX2lkIn19--1245b79c19251ba08d99c9960da93b88d0816c6b/MagPi63.pdf\n",
      "\tLoading link: https://magpi.raspberrypi.com/downloads/eyJfcmFpbHMiOnsibWVzc2FnZSI6IkJBaHBBandFIiwiZXhwIjpudWxsLCJwdXIiOiJibG9iX2lkIn19--1245b79c19251ba08d99c9960da93b88d0816c6b/MagPi63.pdf ...\n",
      "\tdone.\n",
      "\tSave to: MagPi63.pdf ...\n",
      "\tdone.\n",
      "\tSleep 5s\n"
     ]
    },
    {
     "name": "stderr",
     "output_type": "stream",
     "text": [
      "\r",
      " 48%|████▊     | 59/123 [15:18<1:06:21, 62.20s/it]"
     ]
    },
    {
     "name": "stdout",
     "output_type": "stream",
     "text": [
      "https://magpi.raspberrypi.com/downloads/eyJfcmFpbHMiOnsibWVzc2FnZSI6IkJBaHBBa1VFIiwiZXhwIjpudWxsLCJwdXIiOiJibG9iX2lkIn19--51d927b7db3b8ab80aa7d053209bd661814d73f9/MagPi64.pdf\n",
      "\tLoading link: https://magpi.raspberrypi.com/downloads/eyJfcmFpbHMiOnsibWVzc2FnZSI6IkJBaHBBa1VFIiwiZXhwIjpudWxsLCJwdXIiOiJibG9iX2lkIn19--51d927b7db3b8ab80aa7d053209bd661814d73f9/MagPi64.pdf ...\n",
      "\tdone.\n",
      "\tSave to: MagPi64.pdf ...\n",
      "\tdone.\n",
      "\tSleep 4s\n"
     ]
    },
    {
     "name": "stderr",
     "output_type": "stream",
     "text": [
      "\r",
      " 49%|████▉     | 60/123 [16:28<1:07:47, 64.56s/it]"
     ]
    },
    {
     "name": "stdout",
     "output_type": "stream",
     "text": [
      "https://magpi.raspberrypi.com/downloads/eyJfcmFpbHMiOnsibWVzc2FnZSI6IkJBaHBBa0VFIiwiZXhwIjpudWxsLCJwdXIiOiJibG9iX2lkIn19--bddc64ad82063efac578d2fc9f46fc9c262e3a1f/MagPi65.pdf\n",
      "\tLoading link: https://magpi.raspberrypi.com/downloads/eyJfcmFpbHMiOnsibWVzc2FnZSI6IkJBaHBBa0VFIiwiZXhwIjpudWxsLCJwdXIiOiJibG9iX2lkIn19--bddc64ad82063efac578d2fc9f46fc9c262e3a1f/MagPi65.pdf ...\n",
      "\tdone.\n",
      "\tSave to: MagPi65.pdf ...\n",
      "\tdone.\n",
      "\tSleep 1s\n"
     ]
    },
    {
     "name": "stderr",
     "output_type": "stream",
     "text": [
      "\r",
      " 50%|████▉     | 61/123 [17:35<1:07:17, 65.12s/it]"
     ]
    },
    {
     "name": "stdout",
     "output_type": "stream",
     "text": [
      "https://magpi.raspberrypi.com/downloads/eyJfcmFpbHMiOnsibWVzc2FnZSI6IkJBaHBBajhFIiwiZXhwIjpudWxsLCJwdXIiOiJibG9iX2lkIn19--0b845984d6d178502f967de3a6cfd1960d0f6845/MagPi66.pdf\n",
      "\tLoading link: https://magpi.raspberrypi.com/downloads/eyJfcmFpbHMiOnsibWVzc2FnZSI6IkJBaHBBajhFIiwiZXhwIjpudWxsLCJwdXIiOiJibG9iX2lkIn19--0b845984d6d178502f967de3a6cfd1960d0f6845/MagPi66.pdf ...\n",
      "\tdone.\n",
      "\tSave to: MagPi66.pdf ...\n",
      "\tdone.\n",
      "\tSleep 5s\n"
     ]
    },
    {
     "name": "stderr",
     "output_type": "stream",
     "text": [
      "\r",
      " 50%|█████     | 62/123 [18:44<1:07:26, 66.33s/it]"
     ]
    },
    {
     "name": "stdout",
     "output_type": "stream",
     "text": [
      "https://magpi.raspberrypi.com/downloads/eyJfcmFpbHMiOnsibWVzc2FnZSI6IkJBaHBBajRFIiwiZXhwIjpudWxsLCJwdXIiOiJibG9iX2lkIn19--ef6b3bb589399d49c5528520b3406a62d65aa75d/MagPi67.pdf\n",
      "\tLoading link: https://magpi.raspberrypi.com/downloads/eyJfcmFpbHMiOnsibWVzc2FnZSI6IkJBaHBBajRFIiwiZXhwIjpudWxsLCJwdXIiOiJibG9iX2lkIn19--ef6b3bb589399d49c5528520b3406a62d65aa75d/MagPi67.pdf ...\n",
      "\tdone.\n",
      "\tSave to: MagPi67.pdf ...\n",
      "\tdone.\n",
      "\tSleep 2s\n"
     ]
    },
    {
     "name": "stderr",
     "output_type": "stream",
     "text": [
      "\r",
      " 51%|█████     | 63/123 [20:02<1:09:55, 69.93s/it]"
     ]
    },
    {
     "name": "stdout",
     "output_type": "stream",
     "text": [
      "https://magpi.raspberrypi.com/downloads/eyJfcmFpbHMiOnsibWVzc2FnZSI6IkJBaHBBa29FIiwiZXhwIjpudWxsLCJwdXIiOiJibG9iX2lkIn19--eb86c6ad731a5ba667d5be1bcb3f8091c632cc7a/MagPi68.pdf\n",
      "\tLoading link: https://magpi.raspberrypi.com/downloads/eyJfcmFpbHMiOnsibWVzc2FnZSI6IkJBaHBBa29FIiwiZXhwIjpudWxsLCJwdXIiOiJibG9iX2lkIn19--eb86c6ad731a5ba667d5be1bcb3f8091c632cc7a/MagPi68.pdf ...\n",
      "\tdone.\n",
      "\tSave to: MagPi68.pdf ...\n",
      "\tdone.\n",
      "\tSleep 3s\n"
     ]
    },
    {
     "name": "stderr",
     "output_type": "stream",
     "text": [
      "\r",
      " 52%|█████▏    | 64/123 [21:05<1:06:43, 67.85s/it]"
     ]
    },
    {
     "name": "stdout",
     "output_type": "stream",
     "text": [
      "https://magpi.raspberrypi.com/downloads/eyJfcmFpbHMiOnsibWVzc2FnZSI6IkJBaHBBbElFIiwiZXhwIjpudWxsLCJwdXIiOiJibG9iX2lkIn19--58b7e97ae86ff6971468cce87ba0cd6c0a3d22c8/MagPi69.pdf\n",
      "\tLoading link: https://magpi.raspberrypi.com/downloads/eyJfcmFpbHMiOnsibWVzc2FnZSI6IkJBaHBBbElFIiwiZXhwIjpudWxsLCJwdXIiOiJibG9iX2lkIn19--58b7e97ae86ff6971468cce87ba0cd6c0a3d22c8/MagPi69.pdf ...\n",
      "\tdone.\n",
      "\tSave to: MagPi69.pdf ...\n",
      "\tdone.\n",
      "\tSleep 3s\n"
     ]
    },
    {
     "name": "stderr",
     "output_type": "stream",
     "text": [
      "\r",
      " 53%|█████▎    | 65/123 [22:02<1:02:26, 64.59s/it]"
     ]
    },
    {
     "name": "stdout",
     "output_type": "stream",
     "text": [
      "https://magpi.raspberrypi.com/downloads/eyJfcmFpbHMiOnsibWVzc2FnZSI6IkJBaHBBdE1GIiwiZXhwIjpudWxsLCJwdXIiOiJibG9iX2lkIn19--73aa7e3385ae85bdc66457c886cb1e2393d801d3/MagPi70.pdf\n",
      "\tLoading link: https://magpi.raspberrypi.com/downloads/eyJfcmFpbHMiOnsibWVzc2FnZSI6IkJBaHBBdE1GIiwiZXhwIjpudWxsLCJwdXIiOiJibG9iX2lkIn19--73aa7e3385ae85bdc66457c886cb1e2393d801d3/MagPi70.pdf ...\n",
      "\tdone.\n",
      "\tSave to: MagPi70.pdf ...\n",
      "\tdone.\n",
      "\tSleep 5s\n"
     ]
    },
    {
     "name": "stderr",
     "output_type": "stream",
     "text": [
      "\r",
      " 54%|█████▎    | 66/123 [23:26<1:06:53, 70.41s/it]"
     ]
    },
    {
     "name": "stdout",
     "output_type": "stream",
     "text": [
      "https://magpi.raspberrypi.com/downloads/eyJfcmFpbHMiOnsibWVzc2FnZSI6IkJBaHBBbEFFIiwiZXhwIjpudWxsLCJwdXIiOiJibG9iX2lkIn19--9f9e4a9e958a90ad5a8cc8e86286962065d00cc6/MagPi71.pdf\n",
      "\tLoading link: https://magpi.raspberrypi.com/downloads/eyJfcmFpbHMiOnsibWVzc2FnZSI6IkJBaHBBbEFFIiwiZXhwIjpudWxsLCJwdXIiOiJibG9iX2lkIn19--9f9e4a9e958a90ad5a8cc8e86286962065d00cc6/MagPi71.pdf ...\n",
      "\tdone.\n",
      "\tSave to: MagPi71.pdf ...\n",
      "\tdone.\n",
      "\tSleep 5s\n"
     ]
    },
    {
     "name": "stderr",
     "output_type": "stream",
     "text": [
      "\r",
      " 54%|█████▍    | 67/123 [25:02<1:12:47, 77.98s/it]"
     ]
    },
    {
     "name": "stdout",
     "output_type": "stream",
     "text": [
      "https://magpi.raspberrypi.com/downloads/eyJfcmFpbHMiOnsibWVzc2FnZSI6IkJBaHBBaGNFIiwiZXhwIjpudWxsLCJwdXIiOiJibG9iX2lkIn19--ac1137339f256809e39f5d2531a58e8869a4395a/MagPi72.pdf\n",
      "\tLoading link: https://magpi.raspberrypi.com/downloads/eyJfcmFpbHMiOnsibWVzc2FnZSI6IkJBaHBBaGNFIiwiZXhwIjpudWxsLCJwdXIiOiJibG9iX2lkIn19--ac1137339f256809e39f5d2531a58e8869a4395a/MagPi72.pdf ...\n",
      "\tdone.\n",
      "\tSave to: MagPi72.pdf ...\n",
      "\tdone.\n",
      "\tSleep 2s\n"
     ]
    },
    {
     "name": "stderr",
     "output_type": "stream",
     "text": [
      "\r",
      " 55%|█████▌    | 68/123 [26:40<1:17:03, 84.06s/it]"
     ]
    },
    {
     "name": "stdout",
     "output_type": "stream",
     "text": [
      "https://magpi.raspberrypi.com/downloads/eyJfcmFpbHMiOnsibWVzc2FnZSI6IkJBaHBBdjBEIiwiZXhwIjpudWxsLCJwdXIiOiJibG9iX2lkIn19--fdc74ebfaf13188d3114bfe81cb47953997d2535/MagPi73.pdf\n",
      "\tLoading link: https://magpi.raspberrypi.com/downloads/eyJfcmFpbHMiOnsibWVzc2FnZSI6IkJBaHBBdjBEIiwiZXhwIjpudWxsLCJwdXIiOiJibG9iX2lkIn19--fdc74ebfaf13188d3114bfe81cb47953997d2535/MagPi73.pdf ...\n",
      "\tdone.\n",
      "\tSave to: MagPi73.pdf ...\n",
      "\tdone.\n",
      "\tSleep 4s\n"
     ]
    },
    {
     "name": "stderr",
     "output_type": "stream",
     "text": [
      "\r",
      " 56%|█████▌    | 69/123 [26:47<54:43, 60.80s/it]  "
     ]
    },
    {
     "name": "stdout",
     "output_type": "stream",
     "text": [
      "https://magpi.raspberrypi.com/downloads/eyJfcmFpbHMiOnsibWVzc2FnZSI6IkJBaHBBaTBFIiwiZXhwIjpudWxsLCJwdXIiOiJibG9iX2lkIn19--a2e1098b341f4e726fe2d866667dff26dab7f39e/MagPi74.pdf\n",
      "\tLoading link: https://magpi.raspberrypi.com/downloads/eyJfcmFpbHMiOnsibWVzc2FnZSI6IkJBaHBBaTBFIiwiZXhwIjpudWxsLCJwdXIiOiJibG9iX2lkIn19--a2e1098b341f4e726fe2d866667dff26dab7f39e/MagPi74.pdf ...\n",
      "\tdone.\n",
      "\tSave to: MagPi74.pdf ...\n",
      "\tdone.\n",
      "\tSleep 3s\n"
     ]
    },
    {
     "name": "stderr",
     "output_type": "stream",
     "text": [
      "\r",
      " 57%|█████▋    | 70/123 [26:52<39:03, 44.21s/it]"
     ]
    },
    {
     "name": "stdout",
     "output_type": "stream",
     "text": [
      "https://magpi.raspberrypi.com/downloads/eyJfcmFpbHMiOnsibWVzc2FnZSI6IkJBaHBBbmNFIiwiZXhwIjpudWxsLCJwdXIiOiJibG9iX2lkIn19--07ae671999d6f39d780850317d5e23e230375111/MagPi75.pdf\n",
      "\tLoading link: https://magpi.raspberrypi.com/downloads/eyJfcmFpbHMiOnsibWVzc2FnZSI6IkJBaHBBbmNFIiwiZXhwIjpudWxsLCJwdXIiOiJibG9iX2lkIn19--07ae671999d6f39d780850317d5e23e230375111/MagPi75.pdf ...\n",
      "\tdone.\n",
      "\tSave to: MagPi75.pdf ...\n",
      "\tdone.\n",
      "\tSleep 5s\n"
     ]
    },
    {
     "name": "stderr",
     "output_type": "stream",
     "text": [
      "\r",
      " 58%|█████▊    | 71/123 [26:59<28:35, 32.98s/it]"
     ]
    },
    {
     "name": "stdout",
     "output_type": "stream",
     "text": [
      "https://magpi.raspberrypi.com/downloads/eyJfcmFpbHMiOnsibWVzc2FnZSI6IkJBaHBBdHdGIiwiZXhwIjpudWxsLCJwdXIiOiJibG9iX2lkIn19--2e70bf3a9489e847f555922afac510d981869ec1/MagPi76.pdf\n",
      "\tLoading link: https://magpi.raspberrypi.com/downloads/eyJfcmFpbHMiOnsibWVzc2FnZSI6IkJBaHBBdHdGIiwiZXhwIjpudWxsLCJwdXIiOiJibG9iX2lkIn19--2e70bf3a9489e847f555922afac510d981869ec1/MagPi76.pdf ...\n",
      "\tdone.\n",
      "\tSave to: MagPi76.pdf ...\n",
      "\tdone.\n",
      "\tSleep 5s\n"
     ]
    },
    {
     "name": "stderr",
     "output_type": "stream",
     "text": [
      "\r",
      " 59%|█████▊    | 72/123 [27:06<21:18, 25.07s/it]"
     ]
    },
    {
     "name": "stdout",
     "output_type": "stream",
     "text": [
      "https://magpi.raspberrypi.com/downloads/eyJfcmFpbHMiOnsibWVzc2FnZSI6IkJBaHBBdTRDIiwiZXhwIjpudWxsLCJwdXIiOiJibG9iX2lkIn19--c2d81e20cc0ac3e8f9e44709147925ca2131b17f/MagPi77.pdf\n",
      "\tLoading link: https://magpi.raspberrypi.com/downloads/eyJfcmFpbHMiOnsibWVzc2FnZSI6IkJBaHBBdTRDIiwiZXhwIjpudWxsLCJwdXIiOiJibG9iX2lkIn19--c2d81e20cc0ac3e8f9e44709147925ca2131b17f/MagPi77.pdf ...\n",
      "\tdone.\n",
      "\tSave to: MagPi77.pdf ...\n",
      "\tdone.\n",
      "\tSleep 2s\n"
     ]
    },
    {
     "name": "stderr",
     "output_type": "stream",
     "text": [
      "\r",
      " 59%|█████▉    | 73/123 [27:09<15:35, 18.71s/it]"
     ]
    },
    {
     "name": "stdout",
     "output_type": "stream",
     "text": [
      "https://magpi.raspberrypi.com/downloads/eyJfcmFpbHMiOnsibWVzc2FnZSI6IkJBaHBBbklFIiwiZXhwIjpudWxsLCJwdXIiOiJibG9iX2lkIn19--b0f7518c56b0d7187234c582445f60c400dbf018/MagPi78.pdf\n",
      "\tLoading link: https://magpi.raspberrypi.com/downloads/eyJfcmFpbHMiOnsibWVzc2FnZSI6IkJBaHBBbklFIiwiZXhwIjpudWxsLCJwdXIiOiJibG9iX2lkIn19--b0f7518c56b0d7187234c582445f60c400dbf018/MagPi78.pdf ...\n",
      "\tdone.\n",
      "\tSave to: MagPi78.pdf ...\n",
      "\tdone.\n",
      "\tSleep 2s\n"
     ]
    },
    {
     "name": "stderr",
     "output_type": "stream",
     "text": [
      "\r",
      " 60%|██████    | 74/123 [27:13<11:35, 14.20s/it]"
     ]
    },
    {
     "name": "stdout",
     "output_type": "stream",
     "text": [
      "https://magpi.raspberrypi.com/downloads/eyJfcmFpbHMiOnsibWVzc2FnZSI6IkJBaHBBczRDIiwiZXhwIjpudWxsLCJwdXIiOiJibG9iX2lkIn19--0add3d3c37cba90ae5f105c9d204a48073d99e31/MagPi79.pdf\n",
      "\tLoading link: https://magpi.raspberrypi.com/downloads/eyJfcmFpbHMiOnsibWVzc2FnZSI6IkJBaHBBczRDIiwiZXhwIjpudWxsLCJwdXIiOiJibG9iX2lkIn19--0add3d3c37cba90ae5f105c9d204a48073d99e31/MagPi79.pdf ...\n",
      "\tdone.\n",
      "\tSave to: MagPi79.pdf ...\n",
      "\tdone.\n",
      "\tSleep 2s\n"
     ]
    },
    {
     "name": "stderr",
     "output_type": "stream",
     "text": [
      "\r",
      " 61%|██████    | 75/123 [27:17<08:52, 11.10s/it]"
     ]
    },
    {
     "name": "stdout",
     "output_type": "stream",
     "text": [
      "https://magpi.raspberrypi.com/downloads/eyJfcmFpbHMiOnsibWVzc2FnZSI6IkJBaHBBa0FFIiwiZXhwIjpudWxsLCJwdXIiOiJibG9iX2lkIn19--6fd97aec254ffe54e9a4c80e2cb56ddb782658a7/MagPi80.pdf\n",
      "\tLoading link: https://magpi.raspberrypi.com/downloads/eyJfcmFpbHMiOnsibWVzc2FnZSI6IkJBaHBBa0FFIiwiZXhwIjpudWxsLCJwdXIiOiJibG9iX2lkIn19--6fd97aec254ffe54e9a4c80e2cb56ddb782658a7/MagPi80.pdf ...\n",
      "\tdone.\n",
      "\tSave to: MagPi80.pdf ...\n",
      "\tdone.\n",
      "\tSleep 5s\n"
     ]
    },
    {
     "name": "stderr",
     "output_type": "stream",
     "text": [
      "\r",
      " 62%|██████▏   | 76/123 [27:25<07:55, 10.12s/it]"
     ]
    },
    {
     "name": "stdout",
     "output_type": "stream",
     "text": [
      "https://magpi.raspberrypi.com/downloads/eyJfcmFpbHMiOnsibWVzc2FnZSI6IkJBaHBBa3dFIiwiZXhwIjpudWxsLCJwdXIiOiJibG9iX2lkIn19--b12eab62402ee214a8aff7757c68097bdc6c6eeb/MagPi81.pdf\n",
      "\tLoading link: https://magpi.raspberrypi.com/downloads/eyJfcmFpbHMiOnsibWVzc2FnZSI6IkJBaHBBa3dFIiwiZXhwIjpudWxsLCJwdXIiOiJibG9iX2lkIn19--b12eab62402ee214a8aff7757c68097bdc6c6eeb/MagPi81.pdf ...\n",
      "\tdone.\n",
      "\tSave to: MagPi81.pdf ...\n",
      "\tdone.\n",
      "\tSleep 4s\n"
     ]
    },
    {
     "name": "stderr",
     "output_type": "stream",
     "text": [
      "\r",
      " 63%|██████▎   | 77/123 [27:31<06:48,  8.89s/it]"
     ]
    },
    {
     "name": "stdout",
     "output_type": "stream",
     "text": [
      "https://magpi.raspberrypi.com/downloads/eyJfcmFpbHMiOnsibWVzc2FnZSI6IkJBaHBBdkVCIiwiZXhwIjpudWxsLCJwdXIiOiJibG9iX2lkIn19--1ca9a8391ebe36692d426525eaafad64dba6f932/MagPi82.pdf\n",
      "\tLoading link: https://magpi.raspberrypi.com/downloads/eyJfcmFpbHMiOnsibWVzc2FnZSI6IkJBaHBBdkVCIiwiZXhwIjpudWxsLCJwdXIiOiJibG9iX2lkIn19--1ca9a8391ebe36692d426525eaafad64dba6f932/MagPi82.pdf ...\n",
      "\tdone.\n",
      "\tSave to: MagPi82.pdf ...\n",
      "\tdone.\n",
      "\tSleep 1s\n"
     ]
    },
    {
     "name": "stderr",
     "output_type": "stream",
     "text": [
      "\r",
      " 63%|██████▎   | 78/123 [27:34<05:19,  7.10s/it]"
     ]
    },
    {
     "name": "stdout",
     "output_type": "stream",
     "text": [
      "https://magpi.raspberrypi.com/downloads/eyJfcmFpbHMiOnsibWVzc2FnZSI6IkJBaHBBajBFIiwiZXhwIjpudWxsLCJwdXIiOiJibG9iX2lkIn19--639c944f814dc4d3f7998543853fe3090fea87de/MagPi83.pdf\n",
      "\tLoading link: https://magpi.raspberrypi.com/downloads/eyJfcmFpbHMiOnsibWVzc2FnZSI6IkJBaHBBajBFIiwiZXhwIjpudWxsLCJwdXIiOiJibG9iX2lkIn19--639c944f814dc4d3f7998543853fe3090fea87de/MagPi83.pdf ...\n",
      "\tdone.\n",
      "\tSave to: MagPi83.pdf ...\n",
      "\tdone.\n",
      "\tSleep 2s\n"
     ]
    },
    {
     "name": "stderr",
     "output_type": "stream",
     "text": [
      "\r",
      " 64%|██████▍   | 79/123 [27:38<04:31,  6.17s/it]"
     ]
    },
    {
     "name": "stdout",
     "output_type": "stream",
     "text": [
      "https://magpi.raspberrypi.com/downloads/eyJfcmFpbHMiOnsibWVzc2FnZSI6IkJBaHBBbFFFIiwiZXhwIjpudWxsLCJwdXIiOiJibG9iX2lkIn19--2138e7b18985b478aa0b86b8d3fd4442b6d852f5/MagPi84.pdf\n",
      "\tLoading link: https://magpi.raspberrypi.com/downloads/eyJfcmFpbHMiOnsibWVzc2FnZSI6IkJBaHBBbFFFIiwiZXhwIjpudWxsLCJwdXIiOiJibG9iX2lkIn19--2138e7b18985b478aa0b86b8d3fd4442b6d852f5/MagPi84.pdf ...\n",
      "\tdone.\n",
      "\tSave to: MagPi84.pdf ...\n",
      "\tdone.\n",
      "\tSleep 4s\n"
     ]
    },
    {
     "name": "stderr",
     "output_type": "stream",
     "text": [
      "\r",
      " 65%|██████▌   | 80/123 [27:45<04:36,  6.43s/it]"
     ]
    },
    {
     "name": "stdout",
     "output_type": "stream",
     "text": [
      "https://magpi.raspberrypi.com/downloads/eyJfcmFpbHMiOnsibWVzc2FnZSI6IkJBaHBBYkE9IiwiZXhwIjpudWxsLCJwdXIiOiJibG9iX2lkIn19--8c36bb4586e96831d22ab145fe041ba26cf58dc1/MagPi85.pdf\n",
      "\tLoading link: https://magpi.raspberrypi.com/downloads/eyJfcmFpbHMiOnsibWVzc2FnZSI6IkJBaHBBYkE9IiwiZXhwIjpudWxsLCJwdXIiOiJibG9iX2lkIn19--8c36bb4586e96831d22ab145fe041ba26cf58dc1/MagPi85.pdf ...\n",
      "\tdone.\n",
      "\tSave to: MagPi85.pdf ...\n",
      "\tdone.\n",
      "\tSleep 1s\n"
     ]
    },
    {
     "name": "stderr",
     "output_type": "stream",
     "text": [
      "\r",
      " 66%|██████▌   | 81/123 [27:48<03:50,  5.49s/it]"
     ]
    },
    {
     "name": "stdout",
     "output_type": "stream",
     "text": [
      "https://magpi.raspberrypi.com/downloads/eyJfcmFpbHMiOnsibWVzc2FnZSI6IkJBaHBBc2dGIiwiZXhwIjpudWxsLCJwdXIiOiJibG9iX2lkIn19--3097a54621d3ed4ad25b445c56cd5cfb5d9647f1/MagPi86.pdf\n",
      "\tLoading link: https://magpi.raspberrypi.com/downloads/eyJfcmFpbHMiOnsibWVzc2FnZSI6IkJBaHBBc2dGIiwiZXhwIjpudWxsLCJwdXIiOiJibG9iX2lkIn19--3097a54621d3ed4ad25b445c56cd5cfb5d9647f1/MagPi86.pdf ...\n",
      "\tdone.\n",
      "\tSave to: MagPi86.pdf ...\n",
      "\tdone.\n",
      "\tSleep 2s\n"
     ]
    },
    {
     "name": "stderr",
     "output_type": "stream",
     "text": [
      "\r",
      " 67%|██████▋   | 82/123 [27:52<03:23,  4.97s/it]"
     ]
    },
    {
     "name": "stdout",
     "output_type": "stream",
     "text": [
      "https://magpi.raspberrypi.com/downloads/eyJfcmFpbHMiOnsibWVzc2FnZSI6IkJBaHBBcGtFIiwiZXhwIjpudWxsLCJwdXIiOiJibG9iX2lkIn19--63a2e692b0db57d7cf2eeba7a91d3d80e9a55b49/MagPi87.pdf\n",
      "\tLoading link: https://magpi.raspberrypi.com/downloads/eyJfcmFpbHMiOnsibWVzc2FnZSI6IkJBaHBBcGtFIiwiZXhwIjpudWxsLCJwdXIiOiJibG9iX2lkIn19--63a2e692b0db57d7cf2eeba7a91d3d80e9a55b49/MagPi87.pdf ...\n",
      "\tdone.\n",
      "\tSave to: MagPi87.pdf ...\n",
      "\tdone.\n",
      "\tSleep 4s\n"
     ]
    },
    {
     "name": "stderr",
     "output_type": "stream",
     "text": [
      "\r",
      " 67%|██████▋   | 83/123 [27:58<03:29,  5.23s/it]"
     ]
    },
    {
     "name": "stdout",
     "output_type": "stream",
     "text": [
      "https://magpi.raspberrypi.com/downloads/eyJfcmFpbHMiOnsibWVzc2FnZSI6IkJBaHBBaEFHIiwiZXhwIjpudWxsLCJwdXIiOiJibG9iX2lkIn19--6c2dd15af10c9036b7ba82999bc4b418e3809b60/MagPi88.pdf\n",
      "\tLoading link: https://magpi.raspberrypi.com/downloads/eyJfcmFpbHMiOnsibWVzc2FnZSI6IkJBaHBBaEFHIiwiZXhwIjpudWxsLCJwdXIiOiJibG9iX2lkIn19--6c2dd15af10c9036b7ba82999bc4b418e3809b60/MagPi88.pdf ...\n",
      "\tdone.\n",
      "\tSave to: MagPi88.pdf ...\n",
      "\tdone.\n",
      "\tSleep 3s\n"
     ]
    },
    {
     "name": "stderr",
     "output_type": "stream",
     "text": [
      "\r",
      " 68%|██████▊   | 84/123 [28:02<03:18,  5.08s/it]"
     ]
    },
    {
     "name": "stdout",
     "output_type": "stream",
     "text": [
      "https://magpi.raspberrypi.com/downloads/eyJfcmFpbHMiOnsibWVzc2FnZSI6IkJBaHBBbkVFIiwiZXhwIjpudWxsLCJwdXIiOiJibG9iX2lkIn19--c15ace436aa75191db2b764031416467c31f85f4/MagPi89.pdf\n",
      "\tLoading link: https://magpi.raspberrypi.com/downloads/eyJfcmFpbHMiOnsibWVzc2FnZSI6IkJBaHBBbkVFIiwiZXhwIjpudWxsLCJwdXIiOiJibG9iX2lkIn19--c15ace436aa75191db2b764031416467c31f85f4/MagPi89.pdf ...\n",
      "\tdone.\n",
      "\tSave to: MagPi89.pdf ...\n",
      "\tdone.\n",
      "\tSleep 2s\n"
     ]
    },
    {
     "name": "stderr",
     "output_type": "stream",
     "text": [
      "\r",
      " 69%|██████▉   | 85/123 [28:07<03:05,  4.87s/it]"
     ]
    },
    {
     "name": "stdout",
     "output_type": "stream",
     "text": [
      "https://magpi.raspberrypi.com/downloads/eyJfcmFpbHMiOnsibWVzc2FnZSI6IkJBaHBBcGNGIiwiZXhwIjpudWxsLCJwdXIiOiJibG9iX2lkIn19--d63e41d9403057f0db26503714e8297a261a95f5/MagPi90.pdf\n",
      "\tLoading link: https://magpi.raspberrypi.com/downloads/eyJfcmFpbHMiOnsibWVzc2FnZSI6IkJBaHBBcGNGIiwiZXhwIjpudWxsLCJwdXIiOiJibG9iX2lkIn19--d63e41d9403057f0db26503714e8297a261a95f5/MagPi90.pdf ...\n",
      "\tdone.\n",
      "\tSave to: MagPi90.pdf ...\n",
      "\tdone.\n",
      "\tSleep 4s\n"
     ]
    },
    {
     "name": "stderr",
     "output_type": "stream",
     "text": [
      "\r",
      " 70%|██████▉   | 86/123 [28:13<03:13,  5.24s/it]"
     ]
    },
    {
     "name": "stdout",
     "output_type": "stream",
     "text": [
      "https://magpi.raspberrypi.com/downloads/eyJfcmFpbHMiOnsibWVzc2FnZSI6IkJBaHBBbzBGIiwiZXhwIjpudWxsLCJwdXIiOiJibG9iX2lkIn19--cf76ab6cd5378e8c6cc0dd6ef9cc0a37fad12db3/MagPi91.pdf\n",
      "\tLoading link: https://magpi.raspberrypi.com/downloads/eyJfcmFpbHMiOnsibWVzc2FnZSI6IkJBaHBBbzBGIiwiZXhwIjpudWxsLCJwdXIiOiJibG9iX2lkIn19--cf76ab6cd5378e8c6cc0dd6ef9cc0a37fad12db3/MagPi91.pdf ...\n",
      "\tdone.\n",
      "\tSave to: MagPi91.pdf ...\n",
      "\tdone.\n",
      "\tSleep 4s\n"
     ]
    },
    {
     "name": "stderr",
     "output_type": "stream",
     "text": [
      "\r",
      " 71%|███████   | 87/123 [28:20<03:25,  5.70s/it]"
     ]
    },
    {
     "name": "stdout",
     "output_type": "stream",
     "text": [
      "https://magpi.raspberrypi.com/downloads/eyJfcmFpbHMiOnsibWVzc2FnZSI6IkJBaHBBc1lFIiwiZXhwIjpudWxsLCJwdXIiOiJibG9iX2lkIn19--b5ccfb54d8333b45d95c7a83e2957b2d62683a3d/MagPi92.pdf\n",
      "\tLoading link: https://magpi.raspberrypi.com/downloads/eyJfcmFpbHMiOnsibWVzc2FnZSI6IkJBaHBBc1lFIiwiZXhwIjpudWxsLCJwdXIiOiJibG9iX2lkIn19--b5ccfb54d8333b45d95c7a83e2957b2d62683a3d/MagPi92.pdf ...\n",
      "\tdone.\n",
      "\tSave to: MagPi92.pdf ...\n",
      "\tdone.\n",
      "\tSleep 3s\n"
     ]
    },
    {
     "name": "stderr",
     "output_type": "stream",
     "text": [
      "\r",
      " 72%|███████▏  | 88/123 [28:25<03:15,  5.58s/it]"
     ]
    },
    {
     "name": "stdout",
     "output_type": "stream",
     "text": [
      "https://magpi.raspberrypi.com/downloads/eyJfcmFpbHMiOnsibWVzc2FnZSI6IkJBaHBBblFGIiwiZXhwIjpudWxsLCJwdXIiOiJibG9iX2lkIn19--fe57e2619101df9d1218022d3c8291606160a835/MagPi93.pdf\n",
      "\tLoading link: https://magpi.raspberrypi.com/downloads/eyJfcmFpbHMiOnsibWVzc2FnZSI6IkJBaHBBblFGIiwiZXhwIjpudWxsLCJwdXIiOiJibG9iX2lkIn19--fe57e2619101df9d1218022d3c8291606160a835/MagPi93.pdf ...\n",
      "\tdone.\n",
      "\tSave to: MagPi93.pdf ...\n",
      "\tdone.\n",
      "\tSleep 2s\n"
     ]
    },
    {
     "name": "stderr",
     "output_type": "stream",
     "text": [
      "\r",
      " 72%|███████▏  | 89/123 [28:29<02:54,  5.14s/it]"
     ]
    },
    {
     "name": "stdout",
     "output_type": "stream",
     "text": [
      "https://magpi.raspberrypi.com/downloads/eyJfcmFpbHMiOnsibWVzc2FnZSI6IkJBaHBBajBHIiwiZXhwIjpudWxsLCJwdXIiOiJibG9iX2lkIn19--e99558c01438c2fd0414e03450ece655ae5bf2e6/MagPi94.pdf\n",
      "\tLoading link: https://magpi.raspberrypi.com/downloads/eyJfcmFpbHMiOnsibWVzc2FnZSI6IkJBaHBBajBHIiwiZXhwIjpudWxsLCJwdXIiOiJibG9iX2lkIn19--e99558c01438c2fd0414e03450ece655ae5bf2e6/MagPi94.pdf ...\n",
      "\tdone.\n",
      "\tSave to: MagPi94.pdf ...\n",
      "\tdone.\n",
      "\tSleep 5s\n"
     ]
    },
    {
     "name": "stderr",
     "output_type": "stream",
     "text": [
      "\r",
      " 73%|███████▎  | 90/123 [28:36<03:08,  5.73s/it]"
     ]
    },
    {
     "name": "stdout",
     "output_type": "stream",
     "text": [
      "https://magpi.raspberrypi.com/downloads/eyJfcmFpbHMiOnsibWVzc2FnZSI6IkJBaHBBcklGIiwiZXhwIjpudWxsLCJwdXIiOiJibG9iX2lkIn19--baed2c09ea1beef0eabcbabf7f1a484a8d5fbc6b/MagPi95.pdf\n",
      "\tLoading link: https://magpi.raspberrypi.com/downloads/eyJfcmFpbHMiOnsibWVzc2FnZSI6IkJBaHBBcklGIiwiZXhwIjpudWxsLCJwdXIiOiJibG9iX2lkIn19--baed2c09ea1beef0eabcbabf7f1a484a8d5fbc6b/MagPi95.pdf ...\n",
      "\tdone.\n",
      "\tSave to: MagPi95.pdf ...\n",
      "\tdone.\n",
      "\tSleep 4s\n"
     ]
    },
    {
     "name": "stderr",
     "output_type": "stream",
     "text": [
      "\r",
      " 74%|███████▍  | 91/123 [28:42<03:05,  5.80s/it]"
     ]
    },
    {
     "name": "stdout",
     "output_type": "stream",
     "text": [
      "https://magpi.raspberrypi.com/downloads/eyJfcmFpbHMiOnsibWVzc2FnZSI6IkJBaHBBc1VFIiwiZXhwIjpudWxsLCJwdXIiOiJibG9iX2lkIn19--0984b7f7419324d5057368d8d11bbec6835a1179/MagPi96.pdf\n",
      "\tLoading link: https://magpi.raspberrypi.com/downloads/eyJfcmFpbHMiOnsibWVzc2FnZSI6IkJBaHBBc1VFIiwiZXhwIjpudWxsLCJwdXIiOiJibG9iX2lkIn19--0984b7f7419324d5057368d8d11bbec6835a1179/MagPi96.pdf ...\n",
      "\tdone.\n",
      "\tSave to: MagPi96.pdf ...\n",
      "\tdone.\n",
      "\tSleep 1s\n"
     ]
    },
    {
     "name": "stderr",
     "output_type": "stream",
     "text": [
      "\r",
      " 75%|███████▍  | 92/123 [28:45<02:33,  4.97s/it]"
     ]
    },
    {
     "name": "stdout",
     "output_type": "stream",
     "text": [
      "https://magpi.raspberrypi.com/downloads/eyJfcmFpbHMiOnsibWVzc2FnZSI6IkJBaHBBZ1FGIiwiZXhwIjpudWxsLCJwdXIiOiJibG9iX2lkIn19--19ae430c4395b91fbd6352f5b8c97d334b680d1b/MagPi97.pdf\n",
      "\tLoading link: https://magpi.raspberrypi.com/downloads/eyJfcmFpbHMiOnsibWVzc2FnZSI6IkJBaHBBZ1FGIiwiZXhwIjpudWxsLCJwdXIiOiJibG9iX2lkIn19--19ae430c4395b91fbd6352f5b8c97d334b680d1b/MagPi97.pdf ...\n",
      "\tdone.\n",
      "\tSave to: MagPi97.pdf ...\n",
      "\tdone.\n",
      "\tSleep 3s\n"
     ]
    },
    {
     "name": "stderr",
     "output_type": "stream",
     "text": [
      "\r",
      " 76%|███████▌  | 93/123 [28:50<02:25,  4.87s/it]"
     ]
    },
    {
     "name": "stdout",
     "output_type": "stream",
     "text": [
      "https://magpi.raspberrypi.com/downloads/eyJfcmFpbHMiOnsibWVzc2FnZSI6IkJBaHBBakFGIiwiZXhwIjpudWxsLCJwdXIiOiJibG9iX2lkIn19--0486f2daeee75892f93754faa289d7ef9496d1dc/MagPi98.pdf\n",
      "\tLoading link: https://magpi.raspberrypi.com/downloads/eyJfcmFpbHMiOnsibWVzc2FnZSI6IkJBaHBBakFGIiwiZXhwIjpudWxsLCJwdXIiOiJibG9iX2lkIn19--0486f2daeee75892f93754faa289d7ef9496d1dc/MagPi98.pdf ...\n",
      "\tdone.\n",
      "\tSave to: MagPi98.pdf ...\n",
      "\tdone.\n",
      "\tSleep 5s\n"
     ]
    },
    {
     "name": "stderr",
     "output_type": "stream",
     "text": [
      "\r",
      " 76%|███████▋  | 94/123 [28:57<02:40,  5.53s/it]"
     ]
    },
    {
     "name": "stdout",
     "output_type": "stream",
     "text": [
      "https://magpi.raspberrypi.com/downloads/eyJfcmFpbHMiOnsibWVzc2FnZSI6IkJBaHBBajhHIiwiZXhwIjpudWxsLCJwdXIiOiJibG9iX2lkIn19--edaf431be95f2d485540849355b995c682025629/MagPi99.pdf\n",
      "\tLoading link: https://magpi.raspberrypi.com/downloads/eyJfcmFpbHMiOnsibWVzc2FnZSI6IkJBaHBBajhHIiwiZXhwIjpudWxsLCJwdXIiOiJibG9iX2lkIn19--edaf431be95f2d485540849355b995c682025629/MagPi99.pdf ...\n",
      "\tdone.\n",
      "\tSave to: MagPi99.pdf ...\n",
      "\tdone.\n",
      "\tSleep 4s\n"
     ]
    },
    {
     "name": "stderr",
     "output_type": "stream",
     "text": [
      "\r",
      " 77%|███████▋  | 95/123 [29:03<02:39,  5.69s/it]"
     ]
    },
    {
     "name": "stdout",
     "output_type": "stream",
     "text": [
      "https://magpi.raspberrypi.com/downloads/eyJfcmFpbHMiOnsibWVzc2FnZSI6IkJBaHBBbmtFIiwiZXhwIjpudWxsLCJwdXIiOiJibG9iX2lkIn19--cb85ea34b4383af13749532e7eae862c69d33065/MagPi100.pdf\n",
      "\tLoading link: https://magpi.raspberrypi.com/downloads/eyJfcmFpbHMiOnsibWVzc2FnZSI6IkJBaHBBbmtFIiwiZXhwIjpudWxsLCJwdXIiOiJibG9iX2lkIn19--cb85ea34b4383af13749532e7eae862c69d33065/MagPi100.pdf ...\n",
      "\tdone.\n",
      "\tSave to: MagPi100.pdf ...\n",
      "\tdone.\n",
      "\tSleep 1s\n"
     ]
    },
    {
     "name": "stderr",
     "output_type": "stream",
     "text": [
      "\r",
      " 78%|███████▊  | 96/123 [29:06<02:12,  4.92s/it]"
     ]
    },
    {
     "name": "stdout",
     "output_type": "stream",
     "text": [
      "https://magpi.raspberrypi.com/downloads/eyJfcmFpbHMiOnsibWVzc2FnZSI6IkJBaHBBalFGIiwiZXhwIjpudWxsLCJwdXIiOiJibG9iX2lkIn19--5ff618a8c0df27926b1963e4de6c5f077f3dc8f6/MagPi101.pdf\n",
      "\tLoading link: https://magpi.raspberrypi.com/downloads/eyJfcmFpbHMiOnsibWVzc2FnZSI6IkJBaHBBalFGIiwiZXhwIjpudWxsLCJwdXIiOiJibG9iX2lkIn19--5ff618a8c0df27926b1963e4de6c5f077f3dc8f6/MagPi101.pdf ...\n",
      "\tdone.\n",
      "\tSave to: MagPi101.pdf ...\n",
      "\tdone.\n",
      "\tSleep 1s\n"
     ]
    },
    {
     "name": "stderr",
     "output_type": "stream",
     "text": [
      "\r",
      " 79%|███████▉  | 97/123 [29:09<01:51,  4.30s/it]"
     ]
    },
    {
     "name": "stdout",
     "output_type": "stream",
     "text": [
      "https://magpi.raspberrypi.com/downloads/eyJfcmFpbHMiOnsibWVzc2FnZSI6IkJBaHBBdDBRIiwiZXhwIjpudWxsLCJwdXIiOiJibG9iX2lkIn19--089c8ff536046a35b403eab83327944402948a87/MagPi102.pdf\n",
      "\tLoading link: https://magpi.raspberrypi.com/downloads/eyJfcmFpbHMiOnsibWVzc2FnZSI6IkJBaHBBdDBRIiwiZXhwIjpudWxsLCJwdXIiOiJibG9iX2lkIn19--089c8ff536046a35b403eab83327944402948a87/MagPi102.pdf ...\n",
      "\tdone.\n",
      "\tSave to: MagPi102.pdf ...\n",
      "\tdone.\n",
      "\tSleep 5s\n"
     ]
    },
    {
     "name": "stderr",
     "output_type": "stream",
     "text": [
      "\r",
      " 80%|███████▉  | 98/123 [29:16<02:07,  5.10s/it]"
     ]
    },
    {
     "name": "stdout",
     "output_type": "stream",
     "text": [
      "https://magpi.raspberrypi.com/downloads/eyJfcmFpbHMiOnsibWVzc2FnZSI6IkJBaHBBbmNSIiwiZXhwIjpudWxsLCJwdXIiOiJibG9iX2lkIn19--a68f8917b67833e8e508ac312f21be82c3d11799/MagPi103.pdf\n",
      "\tLoading link: https://magpi.raspberrypi.com/downloads/eyJfcmFpbHMiOnsibWVzc2FnZSI6IkJBaHBBbmNSIiwiZXhwIjpudWxsLCJwdXIiOiJibG9iX2lkIn19--a68f8917b67833e8e508ac312f21be82c3d11799/MagPi103.pdf ...\n",
      "\tdone.\n",
      "\tSave to: MagPi103.pdf ...\n",
      "\tdone.\n",
      "\tSleep 5s\n"
     ]
    },
    {
     "name": "stderr",
     "output_type": "stream",
     "text": [
      "\r",
      " 80%|████████  | 99/123 [29:23<02:15,  5.65s/it]"
     ]
    },
    {
     "name": "stdout",
     "output_type": "stream",
     "text": [
      "https://magpi.raspberrypi.com/downloads/eyJfcmFpbHMiOnsibWVzc2FnZSI6IkJBaHBBaG9TIiwiZXhwIjpudWxsLCJwdXIiOiJibG9iX2lkIn19--4d437bf7dffd5ee2f47c7a7cdc7b031144ca9d08/MagPi104.pdf\n",
      "\tLoading link: https://magpi.raspberrypi.com/downloads/eyJfcmFpbHMiOnsibWVzc2FnZSI6IkJBaHBBaG9TIiwiZXhwIjpudWxsLCJwdXIiOiJibG9iX2lkIn19--4d437bf7dffd5ee2f47c7a7cdc7b031144ca9d08/MagPi104.pdf ...\n",
      "\tdone.\n",
      "\tSave to: MagPi104.pdf ...\n",
      "\tdone.\n",
      "\tSleep 1s\n"
     ]
    },
    {
     "name": "stderr",
     "output_type": "stream",
     "text": [
      "\r",
      " 81%|████████▏ | 100/123 [29:25<01:46,  4.65s/it]"
     ]
    },
    {
     "name": "stdout",
     "output_type": "stream",
     "text": [
      "https://magpi.raspberrypi.com/downloads/eyJfcmFpbHMiOnsibWVzc2FnZSI6IkJBaHBBcVFUIiwiZXhwIjpudWxsLCJwdXIiOiJibG9iX2lkIn19--585aec11ca0d2d304423e314d98900cc7953a4a4/MagPi105.pdf\n",
      "\tLoading link: https://magpi.raspberrypi.com/downloads/eyJfcmFpbHMiOnsibWVzc2FnZSI6IkJBaHBBcVFUIiwiZXhwIjpudWxsLCJwdXIiOiJibG9iX2lkIn19--585aec11ca0d2d304423e314d98900cc7953a4a4/MagPi105.pdf ...\n",
      "\tdone.\n",
      "\tSave to: MagPi105.pdf ...\n",
      "\tdone.\n",
      "\tSleep 1s\n"
     ]
    },
    {
     "name": "stderr",
     "output_type": "stream",
     "text": [
      "\r",
      " 82%|████████▏ | 101/123 [29:28<01:33,  4.23s/it]"
     ]
    },
    {
     "name": "stdout",
     "output_type": "stream",
     "text": [
      "https://magpi.raspberrypi.com/downloads/eyJfcmFpbHMiOnsibWVzc2FnZSI6IkJBaHBBaUFVIiwiZXhwIjpudWxsLCJwdXIiOiJibG9iX2lkIn19--7ad5c64c7a10b64f160cef6056d4f0a39d00e23c/MagPi106.pdf\n",
      "\tLoading link: https://magpi.raspberrypi.com/downloads/eyJfcmFpbHMiOnsibWVzc2FnZSI6IkJBaHBBaUFVIiwiZXhwIjpudWxsLCJwdXIiOiJibG9iX2lkIn19--7ad5c64c7a10b64f160cef6056d4f0a39d00e23c/MagPi106.pdf ...\n",
      "\tdone.\n",
      "\tSave to: MagPi106.pdf ...\n",
      "\tdone.\n",
      "\tSleep 2s\n"
     ]
    },
    {
     "name": "stderr",
     "output_type": "stream",
     "text": [
      "\r",
      " 83%|████████▎ | 102/123 [29:32<01:22,  3.92s/it]"
     ]
    },
    {
     "name": "stdout",
     "output_type": "stream",
     "text": [
      "https://magpi.raspberrypi.com/downloads/eyJfcmFpbHMiOnsibWVzc2FnZSI6IkJBaHBBckFVIiwiZXhwIjpudWxsLCJwdXIiOiJibG9iX2lkIn19--0db34b796da42948aeba94386588c9da95226a19/MagPi107.pdf\n",
      "\tLoading link: https://magpi.raspberrypi.com/downloads/eyJfcmFpbHMiOnsibWVzc2FnZSI6IkJBaHBBckFVIiwiZXhwIjpudWxsLCJwdXIiOiJibG9iX2lkIn19--0db34b796da42948aeba94386588c9da95226a19/MagPi107.pdf ...\n",
      "\tdone.\n",
      "\tSave to: MagPi107.pdf ...\n",
      "\tdone.\n",
      "\tSleep 1s\n"
     ]
    },
    {
     "name": "stderr",
     "output_type": "stream",
     "text": [
      "\r",
      " 84%|████████▎ | 103/123 [29:34<01:08,  3.45s/it]"
     ]
    },
    {
     "name": "stdout",
     "output_type": "stream",
     "text": [
      "https://magpi.raspberrypi.com/downloads/eyJfcmFpbHMiOnsibWVzc2FnZSI6IkJBaHBBa0FWIiwiZXhwIjpudWxsLCJwdXIiOiJibG9iX2lkIn19--43ba9f153709bdd7f83e5870c3b2d5cf94a503f0/MagPi108.pdf\n",
      "\tLoading link: https://magpi.raspberrypi.com/downloads/eyJfcmFpbHMiOnsibWVzc2FnZSI6IkJBaHBBa0FWIiwiZXhwIjpudWxsLCJwdXIiOiJibG9iX2lkIn19--43ba9f153709bdd7f83e5870c3b2d5cf94a503f0/MagPi108.pdf ...\n",
      "\tdone.\n",
      "\tSave to: MagPi108.pdf ...\n",
      "\tdone.\n",
      "\tSleep 4s\n"
     ]
    },
    {
     "name": "stderr",
     "output_type": "stream",
     "text": [
      "\r",
      " 85%|████████▍ | 104/123 [29:39<01:16,  4.05s/it]"
     ]
    },
    {
     "name": "stdout",
     "output_type": "stream",
     "text": [
      "https://magpi.raspberrypi.com/downloads/eyJfcmFpbHMiOnsibWVzc2FnZSI6IkJBaHBBcUlhIiwiZXhwIjpudWxsLCJwdXIiOiJibG9iX2lkIn19--8ffb0e4c87f23fb4b5f99bede6bce8fbe0ae7577/MagPi109v3.pdf\n",
      "\tLoading link: https://magpi.raspberrypi.com/downloads/eyJfcmFpbHMiOnsibWVzc2FnZSI6IkJBaHBBcUlhIiwiZXhwIjpudWxsLCJwdXIiOiJibG9iX2lkIn19--8ffb0e4c87f23fb4b5f99bede6bce8fbe0ae7577/MagPi109v3.pdf ...\n",
      "\tdone.\n",
      "\tSave to: MagPi109v3.pdf ...\n",
      "\tdone.\n",
      "\tSleep 2s\n"
     ]
    },
    {
     "name": "stderr",
     "output_type": "stream",
     "text": [
      "\r",
      " 85%|████████▌ | 105/123 [29:44<01:13,  4.10s/it]"
     ]
    },
    {
     "name": "stdout",
     "output_type": "stream",
     "text": [
      "https://magpi.raspberrypi.com/downloads/eyJfcmFpbHMiOnsibWVzc2FnZSI6IkJBaHBBaGdXIiwiZXhwIjpudWxsLCJwdXIiOiJibG9iX2lkIn19--5fce5b22500178a11674f5ac4f3b0b1601c06007/MagPi110.pdf\n",
      "\tLoading link: https://magpi.raspberrypi.com/downloads/eyJfcmFpbHMiOnsibWVzc2FnZSI6IkJBaHBBaGdXIiwiZXhwIjpudWxsLCJwdXIiOiJibG9iX2lkIn19--5fce5b22500178a11674f5ac4f3b0b1601c06007/MagPi110.pdf ...\n",
      "\tdone.\n",
      "\tSave to: MagPi110.pdf ...\n",
      "\tdone.\n",
      "\tSleep 1s\n"
     ]
    },
    {
     "name": "stderr",
     "output_type": "stream",
     "text": [
      "\r",
      " 86%|████████▌ | 106/123 [29:46<01:03,  3.72s/it]"
     ]
    },
    {
     "name": "stdout",
     "output_type": "stream",
     "text": [
      "https://magpi.raspberrypi.com/downloads/eyJfcmFpbHMiOnsibWVzc2FnZSI6IkJBaHBBc1lXIiwiZXhwIjpudWxsLCJwdXIiOiJibG9iX2lkIn19--e7c5146837b7bec39cbbc2052571a2986aaa6b6d/MagPi111.pdf\n",
      "\tLoading link: https://magpi.raspberrypi.com/downloads/eyJfcmFpbHMiOnsibWVzc2FnZSI6IkJBaHBBc1lXIiwiZXhwIjpudWxsLCJwdXIiOiJibG9iX2lkIn19--e7c5146837b7bec39cbbc2052571a2986aaa6b6d/MagPi111.pdf ...\n",
      "\tdone.\n",
      "\tSave to: MagPi111.pdf ...\n",
      "\tdone.\n",
      "\tSleep 3s\n"
     ]
    },
    {
     "name": "stderr",
     "output_type": "stream",
     "text": [
      "\r",
      " 87%|████████▋ | 107/123 [29:52<01:06,  4.18s/it]"
     ]
    },
    {
     "name": "stdout",
     "output_type": "stream",
     "text": [
      "https://magpi.raspberrypi.com/downloads/eyJfcmFpbHMiOnsibWVzc2FnZSI6IkJBaHBBaG9YIiwiZXhwIjpudWxsLCJwdXIiOiJibG9iX2lkIn19--953292333804124dc884abfd67b7a02ec38d313e/MagPi112.pdf\n",
      "\tLoading link: https://magpi.raspberrypi.com/downloads/eyJfcmFpbHMiOnsibWVzc2FnZSI6IkJBaHBBaG9YIiwiZXhwIjpudWxsLCJwdXIiOiJibG9iX2lkIn19--953292333804124dc884abfd67b7a02ec38d313e/MagPi112.pdf ...\n",
      "\tdone.\n",
      "\tSave to: MagPi112.pdf ...\n",
      "\tdone.\n",
      "\tSleep 1s\n"
     ]
    },
    {
     "name": "stderr",
     "output_type": "stream",
     "text": [
      "\r",
      " 88%|████████▊ | 108/123 [29:56<01:01,  4.12s/it]"
     ]
    },
    {
     "name": "stdout",
     "output_type": "stream",
     "text": [
      "https://magpi.raspberrypi.com/downloads/eyJfcmFpbHMiOnsibWVzc2FnZSI6IkJBaHBBdk1YIiwiZXhwIjpudWxsLCJwdXIiOiJibG9iX2lkIn19--e9eaa7f548b074ca51d9ef8f18356e73737ddbe8/MagPi113.pdf\n",
      "\tLoading link: https://magpi.raspberrypi.com/downloads/eyJfcmFpbHMiOnsibWVzc2FnZSI6IkJBaHBBdk1YIiwiZXhwIjpudWxsLCJwdXIiOiJibG9iX2lkIn19--e9eaa7f548b074ca51d9ef8f18356e73737ddbe8/MagPi113.pdf ...\n",
      "\tdone.\n",
      "\tSave to: MagPi113.pdf ...\n",
      "\tdone.\n",
      "\tSleep 2s\n"
     ]
    },
    {
     "name": "stderr",
     "output_type": "stream",
     "text": [
      "\r",
      " 89%|████████▊ | 109/123 [30:00<00:57,  4.07s/it]"
     ]
    },
    {
     "name": "stdout",
     "output_type": "stream",
     "text": [
      "https://magpi.raspberrypi.com/downloads/eyJfcmFpbHMiOnsibWVzc2FnZSI6IkJBaHBBbFFZIiwiZXhwIjpudWxsLCJwdXIiOiJibG9iX2lkIn19--f688a828c7c1986e56269960b52a329eba57a021/MagPi114.pdf\n",
      "\tLoading link: https://magpi.raspberrypi.com/downloads/eyJfcmFpbHMiOnsibWVzc2FnZSI6IkJBaHBBbFFZIiwiZXhwIjpudWxsLCJwdXIiOiJibG9iX2lkIn19--f688a828c7c1986e56269960b52a329eba57a021/MagPi114.pdf ...\n",
      "\tdone.\n",
      "\tSave to: MagPi114.pdf ...\n",
      "\tdone.\n",
      "\tSleep 5s\n"
     ]
    },
    {
     "name": "stderr",
     "output_type": "stream",
     "text": [
      "\r",
      " 89%|████████▉ | 110/123 [30:06<01:01,  4.76s/it]"
     ]
    },
    {
     "name": "stdout",
     "output_type": "stream",
     "text": [
      "https://magpi.raspberrypi.com/downloads/eyJfcmFpbHMiOnsibWVzc2FnZSI6IkJBaHBBc2NZIiwiZXhwIjpudWxsLCJwdXIiOiJibG9iX2lkIn19--556082b4c40f842dfe9663516ebf777060e1dbc5/MagPi115.pdf\n",
      "\tLoading link: https://magpi.raspberrypi.com/downloads/eyJfcmFpbHMiOnsibWVzc2FnZSI6IkJBaHBBc2NZIiwiZXhwIjpudWxsLCJwdXIiOiJibG9iX2lkIn19--556082b4c40f842dfe9663516ebf777060e1dbc5/MagPi115.pdf ...\n",
      "\tdone.\n",
      "\tSave to: MagPi115.pdf ...\n",
      "\tdone.\n",
      "\tSleep 1s\n"
     ]
    },
    {
     "name": "stderr",
     "output_type": "stream",
     "text": [
      "\r",
      " 90%|█████████ | 111/123 [31:14<04:45, 23.75s/it]"
     ]
    },
    {
     "name": "stdout",
     "output_type": "stream",
     "text": [
      "https://magpi.raspberrypi.com/downloads/eyJfcmFpbHMiOnsibWVzc2FnZSI6IkJBaHBBbkFaIiwiZXhwIjpudWxsLCJwdXIiOiJibG9iX2lkIn19--0e15419d2517581ed6b54f96c507c707d8735f28/MagPi116.pdf\n",
      "\tLoading link: https://magpi.raspberrypi.com/downloads/eyJfcmFpbHMiOnsibWVzc2FnZSI6IkJBaHBBbkFaIiwiZXhwIjpudWxsLCJwdXIiOiJibG9iX2lkIn19--0e15419d2517581ed6b54f96c507c707d8735f28/MagPi116.pdf ...\n",
      "\tdone.\n",
      "\tSave to: MagPi116.pdf ...\n",
      "\tdone.\n",
      "\tSleep 2s\n"
     ]
    },
    {
     "name": "stderr",
     "output_type": "stream",
     "text": [
      "\r",
      " 91%|█████████ | 112/123 [33:03<09:01, 49.26s/it]"
     ]
    },
    {
     "name": "stdout",
     "output_type": "stream",
     "text": [
      "https://magpi.raspberrypi.com/downloads/eyJfcmFpbHMiOnsibWVzc2FnZSI6IkJBaHBBdVFaIiwiZXhwIjpudWxsLCJwdXIiOiJibG9iX2lkIn19--8a03e515cba9664d5f9bcbb356d09ce76d24eab0/MagPi117.pdf\n",
      "\tLoading link: https://magpi.raspberrypi.com/downloads/eyJfcmFpbHMiOnsibWVzc2FnZSI6IkJBaHBBdVFaIiwiZXhwIjpudWxsLCJwdXIiOiJibG9iX2lkIn19--8a03e515cba9664d5f9bcbb356d09ce76d24eab0/MagPi117.pdf ...\n",
      "\tdone.\n",
      "\tSave to: MagPi117.pdf ...\n",
      "\tdone.\n",
      "\tSleep 4s\n"
     ]
    },
    {
     "name": "stderr",
     "output_type": "stream",
     "text": [
      "\r",
      " 92%|█████████▏| 113/123 [33:09<06:02, 36.25s/it]"
     ]
    },
    {
     "name": "stdout",
     "output_type": "stream",
     "text": [
      "https://magpi.raspberrypi.com/downloads/eyJfcmFpbHMiOnsibWVzc2FnZSI6IkJBaHBBbGNhIiwiZXhwIjpudWxsLCJwdXIiOiJibG9iX2lkIn19--6dbc23e4af1b7adf021aba379b3dde9cbced5228/MagPi118.pdf\n",
      "\tLoading link: https://magpi.raspberrypi.com/downloads/eyJfcmFpbHMiOnsibWVzc2FnZSI6IkJBaHBBbGNhIiwiZXhwIjpudWxsLCJwdXIiOiJibG9iX2lkIn19--6dbc23e4af1b7adf021aba379b3dde9cbced5228/MagPi118.pdf ...\n",
      "\tdone.\n",
      "\tSave to: MagPi118.pdf ...\n",
      "\tdone.\n",
      "\tSleep 1s\n"
     ]
    },
    {
     "name": "stderr",
     "output_type": "stream",
     "text": [
      "\r",
      " 93%|█████████▎| 114/123 [33:13<03:58, 26.55s/it]"
     ]
    },
    {
     "name": "stdout",
     "output_type": "stream",
     "text": [
      "https://magpi.raspberrypi.com/downloads/eyJfcmFpbHMiOnsibWVzc2FnZSI6IkJBaHBBdm9hIiwiZXhwIjpudWxsLCJwdXIiOiJibG9iX2lkIn19--4f26691e5b1cbbf48bf454e945300c83f3c5c567/MagPi119.pdf\n",
      "\tLoading link: https://magpi.raspberrypi.com/downloads/eyJfcmFpbHMiOnsibWVzc2FnZSI6IkJBaHBBdm9hIiwiZXhwIjpudWxsLCJwdXIiOiJibG9iX2lkIn19--4f26691e5b1cbbf48bf454e945300c83f3c5c567/MagPi119.pdf ...\n",
      "\tdone.\n",
      "\tSave to: MagPi119.pdf ...\n",
      "\tdone.\n",
      "\tSleep 1s\n"
     ]
    },
    {
     "name": "stderr",
     "output_type": "stream",
     "text": [
      "\r",
      " 93%|█████████▎| 115/123 [33:16<02:36, 19.60s/it]"
     ]
    },
    {
     "name": "stdout",
     "output_type": "stream",
     "text": [
      "https://magpi.raspberrypi.com/downloads/eyJfcmFpbHMiOnsibWVzc2FnZSI6IkJBaHBBbHdiIiwiZXhwIjpudWxsLCJwdXIiOiJibG9iX2lkIn19--91c5ec59a30fda75436bbb2e9ea8d34b15f96814/MagPi120.pdf\n",
      "\tLoading link: https://magpi.raspberrypi.com/downloads/eyJfcmFpbHMiOnsibWVzc2FnZSI6IkJBaHBBbHdiIiwiZXhwIjpudWxsLCJwdXIiOiJibG9iX2lkIn19--91c5ec59a30fda75436bbb2e9ea8d34b15f96814/MagPi120.pdf ...\n",
      "\tdone.\n",
      "\tSave to: MagPi120.pdf ...\n",
      "\tdone.\n",
      "\tSleep 1s\n"
     ]
    },
    {
     "name": "stderr",
     "output_type": "stream",
     "text": [
      "\r",
      " 94%|█████████▍| 116/123 [33:19<01:42, 14.63s/it]"
     ]
    },
    {
     "name": "stdout",
     "output_type": "stream",
     "text": [
      "https://magpi.raspberrypi.com/downloads/eyJfcmFpbHMiOnsibWVzc2FnZSI6IkJBaHBBc2diIiwiZXhwIjpudWxsLCJwdXIiOiJibG9iX2lkIn19--26d35f9b519d75ec1c3bf0668d2c2ba109a050a7/MagPi121.pdf\n",
      "\tLoading link: https://magpi.raspberrypi.com/downloads/eyJfcmFpbHMiOnsibWVzc2FnZSI6IkJBaHBBc2diIiwiZXhwIjpudWxsLCJwdXIiOiJibG9iX2lkIn19--26d35f9b519d75ec1c3bf0668d2c2ba109a050a7/MagPi121.pdf ...\n",
      "\tdone.\n",
      "\tSave to: MagPi121.pdf ...\n",
      "\tdone.\n",
      "\tSleep 2s\n"
     ]
    },
    {
     "name": "stderr",
     "output_type": "stream",
     "text": [
      "\r",
      " 95%|█████████▌| 117/123 [33:23<01:09, 11.56s/it]"
     ]
    },
    {
     "name": "stdout",
     "output_type": "stream",
     "text": [
      "https://magpi.raspberrypi.com/downloads/eyJfcmFpbHMiOnsibWVzc2FnZSI6IkJBaHBBbEVkIiwiZXhwIjpudWxsLCJwdXIiOiJibG9iX2lkIn19--8b37a4ef08b47d44cc2b847692d313d4ac200b46/MagPi122.pdf\n",
      "\tLoading link: https://magpi.raspberrypi.com/downloads/eyJfcmFpbHMiOnsibWVzc2FnZSI6IkJBaHBBbEVkIiwiZXhwIjpudWxsLCJwdXIiOiJibG9iX2lkIn19--8b37a4ef08b47d44cc2b847692d313d4ac200b46/MagPi122.pdf ...\n",
      "\tdone.\n",
      "\tSave to: MagPi122.pdf ...\n",
      "\tdone.\n",
      "\tSleep 4s\n"
     ]
    },
    {
     "name": "stderr",
     "output_type": "stream",
     "text": [
      "\r",
      " 96%|█████████▌| 118/123 [33:29<00:48,  9.72s/it]"
     ]
    },
    {
     "name": "stdout",
     "output_type": "stream",
     "text": [
      "https://magpi.raspberrypi.com/downloads/eyJfcmFpbHMiOnsibWVzc2FnZSI6IkJBaHBBbXdlIiwiZXhwIjpudWxsLCJwdXIiOiJibG9iX2lkIn19--9366ac78e0a615b40ce3987e40355be84597d197/MagPi123.pdf\n",
      "\tLoading link: https://magpi.raspberrypi.com/downloads/eyJfcmFpbHMiOnsibWVzc2FnZSI6IkJBaHBBbXdlIiwiZXhwIjpudWxsLCJwdXIiOiJibG9iX2lkIn19--9366ac78e0a615b40ce3987e40355be84597d197/MagPi123.pdf ...\n",
      "\tdone.\n",
      "\tSave to: MagPi123.pdf ...\n",
      "\tdone.\n",
      "\tSleep 3s\n"
     ]
    },
    {
     "name": "stderr",
     "output_type": "stream",
     "text": [
      "\r",
      " 97%|█████████▋| 119/123 [33:34<00:33,  8.32s/it]"
     ]
    },
    {
     "name": "stdout",
     "output_type": "stream",
     "text": [
      "https://magpi.raspberrypi.com/downloads/eyJfcmFpbHMiOnsibWVzc2FnZSI6IkJBaHBBaVlmIiwiZXhwIjpudWxsLCJwdXIiOiJibG9iX2lkIn19--bfddc468731c19aa495235c7280d6d2cf3a22014/MagPi124.pdf\n",
      "\tLoading link: https://magpi.raspberrypi.com/downloads/eyJfcmFpbHMiOnsibWVzc2FnZSI6IkJBaHBBaVlmIiwiZXhwIjpudWxsLCJwdXIiOiJibG9iX2lkIn19--bfddc468731c19aa495235c7280d6d2cf3a22014/MagPi124.pdf ...\n",
      "\tdone.\n",
      "\tSave to: MagPi124.pdf ...\n",
      "\tdone.\n",
      "\tSleep 3s\n"
     ]
    },
    {
     "name": "stderr",
     "output_type": "stream",
     "text": [
      "\r",
      " 98%|█████████▊| 120/123 [33:39<00:21,  7.26s/it]"
     ]
    },
    {
     "name": "stdout",
     "output_type": "stream",
     "text": [
      "https://magpi.raspberrypi.com/downloads/eyJfcmFpbHMiOnsibWVzc2FnZSI6IkJBaHBBbE1mIiwiZXhwIjpudWxsLCJwdXIiOiJibG9iX2lkIn19--770e4fef2223ebfa98611c252ec9b018e5213f71/MagPi125.pdf\n",
      "\tLoading link: https://magpi.raspberrypi.com/downloads/eyJfcmFpbHMiOnsibWVzc2FnZSI6IkJBaHBBbE1mIiwiZXhwIjpudWxsLCJwdXIiOiJibG9iX2lkIn19--770e4fef2223ebfa98611c252ec9b018e5213f71/MagPi125.pdf ...\n",
      "\tdone.\n",
      "\tSave to: MagPi125.pdf ...\n",
      "\tdone.\n",
      "\tSleep 2s\n"
     ]
    },
    {
     "name": "stderr",
     "output_type": "stream",
     "text": [
      "\r",
      " 98%|█████████▊| 121/123 [33:43<00:12,  6.35s/it]"
     ]
    },
    {
     "name": "stdout",
     "output_type": "stream",
     "text": [
      "https://magpi.raspberrypi.com/downloads/eyJfcmFpbHMiOnsibWVzc2FnZSI6IkJBaHBBdVlmIiwiZXhwIjpudWxsLCJwdXIiOiJibG9iX2lkIn19--a62ee7f4b10667fbb642a9863b7facad62bff3f5/MagPi126.pdf\n",
      "\tLoading link: https://magpi.raspberrypi.com/downloads/eyJfcmFpbHMiOnsibWVzc2FnZSI6IkJBaHBBdVlmIiwiZXhwIjpudWxsLCJwdXIiOiJibG9iX2lkIn19--a62ee7f4b10667fbb642a9863b7facad62bff3f5/MagPi126.pdf ...\n",
      "\tdone.\n",
      "\tSave to: MagPi126.pdf ...\n",
      "\tdone.\n",
      "\tSleep 2s\n"
     ]
    },
    {
     "name": "stderr",
     "output_type": "stream",
     "text": [
      "\r",
      " 99%|█████████▉| 122/123 [33:47<00:05,  5.64s/it]"
     ]
    },
    {
     "name": "stdout",
     "output_type": "stream",
     "text": [
      "https://magpi.raspberrypi.com/downloads/eyJfcmFpbHMiOnsibWVzc2FnZSI6IkJBaHBBaGNnIiwiZXhwIjpudWxsLCJwdXIiOiJibG9iX2lkIn19--6172e17011c18f52523ed81817a1fe8eeb59ded6/MagPi127.pdf\n",
      "\tLoading link: https://magpi.raspberrypi.com/downloads/eyJfcmFpbHMiOnsibWVzc2FnZSI6IkJBaHBBaGNnIiwiZXhwIjpudWxsLCJwdXIiOiJibG9iX2lkIn19--6172e17011c18f52523ed81817a1fe8eeb59ded6/MagPi127.pdf ...\n",
      "\tdone.\n",
      "\tSave to: MagPi127.pdf ...\n",
      "\tdone.\n",
      "\tSleep 4s\n"
     ]
    },
    {
     "name": "stderr",
     "output_type": "stream",
     "text": [
      "100%|██████████| 123/123 [33:53<00:00, 16.53s/it]\n"
     ]
    }
   ],
   "source": [
    "import requests\n",
    "from tqdm import tqdm\n",
    "from bs4 import BeautifulSoup\n",
    "from urllib.parse import urlparse\n",
    "import os\n",
    "from random import randint\n",
    "from time import sleep\n",
    "\n",
    "\n",
    "def grabIssue(number):\n",
    "    URL = \"https://magpi.raspberrypi.com/issues/\"+str(number)+\"/pdf/download\"\n",
    "    page = requests.get(URL)\n",
    "    soup = BeautifulSoup(page.content, \"html.parser\")\n",
    "    for a in soup.find_all('a', href=True):\n",
    "        if a['href'].startswith('/downloads/'):\n",
    "            link = \"https://magpi.raspberrypi.com\"+ a['href']\n",
    "            return link\n",
    "\n",
    "def random_sleep():\n",
    "    delay = randint(1,5)\n",
    "    print(\"\\tSleep \" + str(delay) + \"s\")\n",
    "    sleep(delay)\n",
    "    \n",
    "def download(link):\n",
    "    print(\"\\tLoading link: \" + link +\" ...\")\n",
    "    binaryData = requests.get(link, allow_redirects=True)\n",
    "    print(\"\\tdone.\")\n",
    "    a = urlparse(link)\n",
    "    fileName = os.path.basename(a.path)\n",
    "    print(\"\\tSave to: \" + fileName +\" ...\")\n",
    "    file = open(fileName, 'wb')\n",
    "    file.write(binaryData.content)\n",
    "    file.close()\n",
    "    print(\"\\tdone.\")\n",
    "    random_sleep()\n",
    "\n",
    "for Issue in tqdm(range(126,128)):\n",
    "    link = grabIssue(Issue)\n",
    "    if link is not None:\n",
    "        print(link)\n",
    "        download(link)\n"
   ]
  },
  {
   "cell_type": "code",
   "execution_count": null,
   "id": "87bc8afa",
   "metadata": {},
   "outputs": [],
   "source": []
  }
 ],
 "metadata": {
  "kernelspec": {
   "display_name": "Python 3 (ipykernel)",
   "language": "python",
   "name": "python3"
  },
  "language_info": {
   "codemirror_mode": {
    "name": "ipython",
    "version": 3
   },
   "file_extension": ".py",
   "mimetype": "text/x-python",
   "name": "python",
   "nbconvert_exporter": "python",
   "pygments_lexer": "ipython3",
   "version": "3.8.15"
  }
 },
 "nbformat": 4,
 "nbformat_minor": 5
}
